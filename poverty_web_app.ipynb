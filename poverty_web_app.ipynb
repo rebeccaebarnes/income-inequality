{
 "cells": [
  {
   "cell_type": "markdown",
   "metadata": {},
   "source": [
    "# World Bank Home Ownership\n",
    "\n",
    "This notebook is used to develop code to create a data dashboard for World Bank information on the poverty gap at national poverty lines. \n",
    "\n",
    "## Data\n",
    "The data used is found at: \n",
    "https://databank.worldbank.org/data/reports.aspx?source=2&series=SI.POV.NAGP"
   ]
  },
  {
   "cell_type": "markdown",
   "metadata": {},
   "source": [
    "## Gather"
   ]
  },
  {
   "cell_type": "code",
   "execution_count": 54,
   "metadata": {},
   "outputs": [],
   "source": [
    "import json\n",
    "import requests\n",
    "import os\n",
    "\n",
    "import numpy as np\n",
    "import pandas as pd\n",
    "import matplotlib.pyplot as plt\n",
    "import seaborn as sns\n",
    "\n",
    "%matplotlib inline"
   ]
  },
  {
   "cell_type": "code",
   "execution_count": 2,
   "metadata": {},
   "outputs": [],
   "source": [
    "# Define query function\n",
    "def api_query(data_code, params):\n",
    "    link = 'https://api.worldbank.org/v2/en/country/all/indicator/'\n",
    "    r = requests.get(link + data_code, params=params)\n",
    "    return r.json()"
   ]
  },
  {
   "cell_type": "code",
   "execution_count": 55,
   "metadata": {},
   "outputs": [],
   "source": [
    "# Set up request parameters\n",
    "params = {'format': 'json', 'per_page': '1000', 'date': '1990:2017'}"
   ]
  },
  {
   "cell_type": "code",
   "execution_count": 4,
   "metadata": {},
   "outputs": [],
   "source": [
    "poverty = api_query('SI.POV.NAGP', params)"
   ]
  },
  {
   "cell_type": "code",
   "execution_count": 6,
   "metadata": {},
   "outputs": [
    {
     "data": {
      "text/plain": [
       "{'page': 1,\n",
       " 'pages': 7,\n",
       " 'per_page': 1000,\n",
       " 'total': 6864,\n",
       " 'sourceid': '2',\n",
       " 'lastupdated': '2019-01-30'}"
      ]
     },
     "execution_count": 6,
     "metadata": {},
     "output_type": "execute_result"
    }
   ],
   "source": [
    "# Get results details\n",
    "poverty[0]"
   ]
  },
  {
   "cell_type": "markdown",
   "metadata": {},
   "source": [
    "There are 7 pages of results that contain 6,864 records."
   ]
  },
  {
   "cell_type": "code",
   "execution_count": 15,
   "metadata": {},
   "outputs": [
    {
     "data": {
      "text/plain": [
       "{'indicator': {'id': 'SI.POV.NAGP',\n",
       "  'value': 'Poverty gap at national poverty lines (%)'},\n",
       " 'country': {'id': '1A', 'value': 'Arab World'},\n",
       " 'countryiso3code': '',\n",
       " 'date': '2015',\n",
       " 'value': None,\n",
       " 'unit': '',\n",
       " 'obs_status': '',\n",
       " 'decimal': 1}"
      ]
     },
     "execution_count": 15,
     "metadata": {},
     "output_type": "execute_result"
    }
   ],
   "source": [
    "poverty[1][0]"
   ]
  },
  {
   "cell_type": "markdown",
   "metadata": {},
   "source": [
    "The keys I want are `country['id']`, `country['value']`, `date`, `value`."
   ]
  },
  {
   "cell_type": "code",
   "execution_count": 29,
   "metadata": {},
   "outputs": [],
   "source": [
    "def full_query(data_code, params, folder_name):\n",
    "    # Complete initial query\n",
    "    initial = api_query(data_code, params)\n",
    "    \n",
    "    # Determine number of pages for full results\n",
    "    num_pages = initial[0]['pages']\n",
    "    \n",
    "    # Create data directory\n",
    "    if not os.path.exists(folder_name):\n",
    "        os.makedirs(folder_name)\n",
    "    \n",
    "    for i in range(num_pages):\n",
    "        # Save file\n",
    "        file_name = data_code + '_pg_' + str(i + 1) + '.txt'\n",
    "        file_path = os.path.join(folder_name, file_name)\n",
    "        if not os.path.isfile(file_path):\n",
    "            open(file_path, 'w').close()\n",
    "        \n",
    "        # Update params\n",
    "        params['page'] = i + 1\n",
    "        \n",
    "        # Complete query and save\n",
    "        results = api_query(data_code, params)\n",
    "        with open(file_path, 'w') as file:\n",
    "            json.dump(results, file)"
   ]
  },
  {
   "cell_type": "code",
   "execution_count": 56,
   "metadata": {},
   "outputs": [],
   "source": [
    "full_query('SI.POV.NAGP', params, 'data')"
   ]
  },
  {
   "cell_type": "code",
   "execution_count": 57,
   "metadata": {},
   "outputs": [],
   "source": [
    "def extract_data(folder_name):\n",
    "    df_list = []\n",
    "    \n",
    "    directory = os.fsencode(folder_name)\n",
    "    for file in os.listdir(directory):\n",
    "        file_name = os.fsdecode(file)\n",
    "        if file_name.endswith(\".txt\"):\n",
    "            file_path = os.path.join(folder_name, file_name)\n",
    "            with open(file_path) as json_file:\n",
    "                data = json.load(json_file)\n",
    "                for entry in data[1]:\n",
    "                    df_list.append({\n",
    "                        'country_id': entry['country']['id'],\n",
    "                        'country_name': entry['country']['value'],\n",
    "                        'year': entry['date'],\n",
    "                        'value': entry['value']\n",
    "                    })\n",
    "    \n",
    "    df = pd.DataFrame(df_list, columns=['country_id', 'country_name', 'year', 'value'])\n",
    "    \n",
    "    return df"
   ]
  },
  {
   "cell_type": "code",
   "execution_count": 58,
   "metadata": {},
   "outputs": [],
   "source": [
    "df = extract_data('data')"
   ]
  },
  {
   "cell_type": "code",
   "execution_count": 59,
   "metadata": {},
   "outputs": [
    {
     "data": {
      "text/html": [
       "<div>\n",
       "<style scoped>\n",
       "    .dataframe tbody tr th:only-of-type {\n",
       "        vertical-align: middle;\n",
       "    }\n",
       "\n",
       "    .dataframe tbody tr th {\n",
       "        vertical-align: top;\n",
       "    }\n",
       "\n",
       "    .dataframe thead th {\n",
       "        text-align: right;\n",
       "    }\n",
       "</style>\n",
       "<table border=\"1\" class=\"dataframe\">\n",
       "  <thead>\n",
       "    <tr style=\"text-align: right;\">\n",
       "      <th></th>\n",
       "      <th>country_id</th>\n",
       "      <th>country_name</th>\n",
       "      <th>year</th>\n",
       "      <th>value</th>\n",
       "    </tr>\n",
       "  </thead>\n",
       "  <tbody>\n",
       "    <tr>\n",
       "      <th>0</th>\n",
       "      <td>1A</td>\n",
       "      <td>Arab World</td>\n",
       "      <td>2017</td>\n",
       "      <td>NaN</td>\n",
       "    </tr>\n",
       "    <tr>\n",
       "      <th>1</th>\n",
       "      <td>1A</td>\n",
       "      <td>Arab World</td>\n",
       "      <td>2016</td>\n",
       "      <td>NaN</td>\n",
       "    </tr>\n",
       "    <tr>\n",
       "      <th>2</th>\n",
       "      <td>1A</td>\n",
       "      <td>Arab World</td>\n",
       "      <td>2015</td>\n",
       "      <td>NaN</td>\n",
       "    </tr>\n",
       "    <tr>\n",
       "      <th>3</th>\n",
       "      <td>1A</td>\n",
       "      <td>Arab World</td>\n",
       "      <td>2014</td>\n",
       "      <td>NaN</td>\n",
       "    </tr>\n",
       "    <tr>\n",
       "      <th>4</th>\n",
       "      <td>1A</td>\n",
       "      <td>Arab World</td>\n",
       "      <td>2013</td>\n",
       "      <td>NaN</td>\n",
       "    </tr>\n",
       "  </tbody>\n",
       "</table>\n",
       "</div>"
      ],
      "text/plain": [
       "  country_id country_name  year  value\n",
       "0         1A   Arab World  2017    NaN\n",
       "1         1A   Arab World  2016    NaN\n",
       "2         1A   Arab World  2015    NaN\n",
       "3         1A   Arab World  2014    NaN\n",
       "4         1A   Arab World  2013    NaN"
      ]
     },
     "execution_count": 59,
     "metadata": {},
     "output_type": "execute_result"
    }
   ],
   "source": [
    "df.head()"
   ]
  },
  {
   "cell_type": "code",
   "execution_count": 60,
   "metadata": {},
   "outputs": [
    {
     "data": {
      "text/plain": [
       "(7392, 4)"
      ]
     },
     "execution_count": 60,
     "metadata": {},
     "output_type": "execute_result"
    }
   ],
   "source": [
    "df.shape"
   ]
  },
  {
   "cell_type": "code",
   "execution_count": 61,
   "metadata": {},
   "outputs": [
    {
     "data": {
      "text/plain": [
       "array(['1A', 'S3', 'B8', 'V2', 'Z4', '4E', 'T4', 'XC', 'Z7', '7E', 'T7',\n",
       "       'EU', 'F1', 'XE', 'XD', 'XF', 'ZT', 'XH', 'XI', 'XG', 'V3', 'ZJ',\n",
       "       'XJ', 'T2', 'XL', 'XO', 'XM', 'XN', 'ZQ', 'XQ', 'T3', 'XP', 'XU',\n",
       "       'XY', 'OE', 'S4', 'S2', 'V4', 'V1', 'S1', '8S', 'T5', 'ZG', 'ZF',\n",
       "       'T6', 'XT', '1W', 'AF', 'AL', 'DZ', 'AS', 'AD', 'AO', 'AG', 'AR',\n",
       "       'AM', 'AW', 'AU', 'AT', 'AZ', 'BS', 'BH', 'BD', 'BB', 'BY', 'BE',\n",
       "       'BZ', 'BJ', 'BM', 'BT', 'BO', 'BA', 'BW', 'BR', 'VG', 'BN', 'BG',\n",
       "       'BF', 'BI', 'CV', 'KH', 'CM', 'CA', 'KY', 'CF', 'TD', 'JG', 'CL',\n",
       "       'CN', 'CO', 'KM', 'CD', 'CG', 'CR', 'CI', 'HR', 'CU', 'CW', 'CY',\n",
       "       'CZ', 'DK', 'DJ', 'DM', 'DO', 'EC', 'EG', 'SV', 'GQ', 'ER', 'EE',\n",
       "       'SZ', 'ET', 'FO', 'FJ', 'FI', 'FR', 'PF', 'GA', 'GM', 'GE', 'DE',\n",
       "       'GH', 'GI', 'GR', 'GL', 'GD', 'GU', 'GT', 'GN', 'GW', 'GY', 'HT',\n",
       "       'HN', 'HK', 'HU', 'IS', 'IN', 'ID', 'IR', 'IQ', 'IE', 'IM', 'IL',\n",
       "       'IT', 'JM', 'JP', 'JO', 'KZ', 'KE', 'KI', 'KP', 'KR', 'XK', 'KW',\n",
       "       'KG', 'LA', 'LV', 'LB', 'LS', 'LR', 'LY', 'LI', 'LT', 'LU', 'MO',\n",
       "       'MK', 'MG', 'MW', 'MY', 'MV', 'ML', 'MT', 'MH', 'MR', 'MU', 'MX',\n",
       "       'FM', 'MD', 'MC', 'MN', 'ME', 'MA', 'MZ', 'MM', 'NA', 'NR', 'NP',\n",
       "       'NL', 'NC', 'NZ', 'NI', 'NE', 'NG', 'MP', 'NO', 'OM', 'PK', 'PW',\n",
       "       'PA', 'PG', 'PY', 'PE', 'PH', 'PL', 'PT', 'PR', 'QA', 'RO', 'RU',\n",
       "       'RW', 'WS', 'SM', 'ST', 'SA', 'SN', 'RS', 'SC', 'SL', 'SG', 'SX',\n",
       "       'SK', 'SI', 'SB', 'SO', 'ZA', 'SS', 'ES', 'LK', 'KN', 'LC', 'MF',\n",
       "       'VC', 'SD', 'SR', 'SE', 'CH', 'SY', 'TJ', 'TZ', 'TH', 'TL', 'TG',\n",
       "       'TO', 'TT', 'TN', 'TR', 'TM', 'TC', 'TV', 'UG', 'UA', 'AE', 'GB',\n",
       "       'US', 'UY', 'UZ', 'VU', 'VE', 'VN', 'VI', 'PS', 'YE', 'ZM', 'ZW'],\n",
       "      dtype=object)"
      ]
     },
     "execution_count": 61,
     "metadata": {},
     "output_type": "execute_result"
    }
   ],
   "source": [
    "df.country_id.unique()"
   ]
  },
  {
   "cell_type": "code",
   "execution_count": 62,
   "metadata": {},
   "outputs": [
    {
     "data": {
      "text/plain": [
       "(7089, 4)"
      ]
     },
     "execution_count": 62,
     "metadata": {},
     "output_type": "execute_result"
    }
   ],
   "source": [
    "df[df.isnull().sum(axis=1) > 0].shape"
   ]
  },
  {
   "cell_type": "markdown",
   "metadata": {},
   "source": [
    "The majority of rows are missing data. Which countries have data?"
   ]
  },
  {
   "cell_type": "code",
   "execution_count": 63,
   "metadata": {},
   "outputs": [],
   "source": [
    "no_missing = df[df.isnull().sum(axis=1) == 0]"
   ]
  },
  {
   "cell_type": "code",
   "execution_count": 64,
   "metadata": {},
   "outputs": [
    {
     "data": {
      "text/plain": [
       "country_name\n",
       "Kazakhstan                  15\n",
       "Russian Federation          14\n",
       "Honduras                    14\n",
       "Bolivia                     14\n",
       "Indonesia                   12\n",
       "Uruguay                     10\n",
       "Peru                         9\n",
       "Montenegro                   9\n",
       "Kyrgyz Republic              9\n",
       "Ecuador                      9\n",
       "Moldova                      9\n",
       "Armenia                      7\n",
       "Uganda                       7\n",
       "Cambodia                     7\n",
       "Costa Rica                   6\n",
       "Colombia                     6\n",
       "Philippines                  4\n",
       "Cameroon                     4\n",
       "Lao PDR                      4\n",
       "Mongolia                     4\n",
       "Ethiopia                     4\n",
       "Sri Lanka                    4\n",
       "Guinea                       4\n",
       "Albania                      4\n",
       "Mauritania                   3\n",
       "Malaysia                     3\n",
       "Mexico                       3\n",
       "Lesotho                      3\n",
       "Malawi                       3\n",
       "India                        3\n",
       "                            ..\n",
       "Jordan                       2\n",
       "Nicaragua                    2\n",
       "Nigeria                      2\n",
       "West Bank and Gaza           2\n",
       "Cabo Verde                   1\n",
       "Haiti                        1\n",
       "Angola                       1\n",
       "Tanzania                     1\n",
       "Azerbaijan                   1\n",
       "Guinea-Bissau                1\n",
       "Sudan                        1\n",
       "South Sudan                  1\n",
       "South Africa                 1\n",
       "Solomon Islands              1\n",
       "Kenya                        1\n",
       "Seychelles                   1\n",
       "Liberia                      1\n",
       "Madagascar                   1\n",
       "Papua New Guinea             1\n",
       "Central African Republic     1\n",
       "Pakistan                     1\n",
       "Gambia, The                  1\n",
       "Comoros                      1\n",
       "Niger                        1\n",
       "Gabon                        1\n",
       "Nepal                        1\n",
       "Micronesia, Fed. Sts.        1\n",
       "Lebanon                      1\n",
       "Equatorial Guinea            1\n",
       "Yemen, Rep.                  1\n",
       "Name: country_name, Length: 86, dtype: int64"
      ]
     },
     "execution_count": 64,
     "metadata": {},
     "output_type": "execute_result"
    }
   ],
   "source": [
    "no_missing.groupby('country_name')['country_name'].count().sort_values(ascending=False)"
   ]
  },
  {
   "cell_type": "markdown",
   "metadata": {},
   "source": [
    "What is the total number of years available?"
   ]
  },
  {
   "cell_type": "code",
   "execution_count": 65,
   "metadata": {},
   "outputs": [
    {
     "data": {
      "text/plain": [
       "24"
      ]
     },
     "execution_count": 65,
     "metadata": {},
     "output_type": "execute_result"
    }
   ],
   "source": [
    "no_missing.year.nunique()"
   ]
  },
  {
   "cell_type": "markdown",
   "metadata": {},
   "source": [
    "No countries have data for every year. \n",
    "\n",
    "What years have the most data?"
   ]
  },
  {
   "cell_type": "code",
   "execution_count": 66,
   "metadata": {},
   "outputs": [
    {
     "data": {
      "text/plain": [
       "year\n",
       "2012    29\n",
       "2009    28\n",
       "2010    27\n",
       "2011    26\n",
       "2007    24\n",
       "2008    21\n",
       "2014    20\n",
       "2013    18\n",
       "2002    17\n",
       "2006    16\n",
       "2005    16\n",
       "2004    14\n",
       "2003    11\n",
       "2015    10\n",
       "2001     6\n",
       "2000     6\n",
       "1999     3\n",
       "1996     3\n",
       "1997     2\n",
       "1994     2\n",
       "1998     1\n",
       "1995     1\n",
       "1993     1\n",
       "1992     1\n",
       "Name: year, dtype: int64"
      ]
     },
     "execution_count": 66,
     "metadata": {},
     "output_type": "execute_result"
    }
   ],
   "source": [
    "no_missing.groupby('year')['year'].count().sort_values(ascending=False)"
   ]
  },
  {
   "cell_type": "markdown",
   "metadata": {},
   "source": [
    "Looks like the best years to plot are from 2002 to 2015.\n",
    "\n",
    "Let's do 5 year intervals."
   ]
  },
  {
   "cell_type": "code",
   "execution_count": 75,
   "metadata": {},
   "outputs": [
    {
     "data": {
      "text/plain": [
       "country_id       object\n",
       "country_name     object\n",
       "year             object\n",
       "value           float64\n",
       "dtype: object"
      ]
     },
     "execution_count": 75,
     "metadata": {},
     "output_type": "execute_result"
    }
   ],
   "source": [
    "df.dtypes"
   ]
  },
  {
   "cell_type": "code",
   "execution_count": 83,
   "metadata": {},
   "outputs": [
    {
     "data": {
      "text/html": [
       "<div>\n",
       "<style scoped>\n",
       "    .dataframe tbody tr th:only-of-type {\n",
       "        vertical-align: middle;\n",
       "    }\n",
       "\n",
       "    .dataframe tbody tr th {\n",
       "        vertical-align: top;\n",
       "    }\n",
       "\n",
       "    .dataframe thead th {\n",
       "        text-align: right;\n",
       "    }\n",
       "</style>\n",
       "<table border=\"1\" class=\"dataframe\">\n",
       "  <thead>\n",
       "    <tr style=\"text-align: right;\">\n",
       "      <th></th>\n",
       "      <th>country_id</th>\n",
       "      <th>country_name</th>\n",
       "      <th>year</th>\n",
       "      <th>value</th>\n",
       "    </tr>\n",
       "  </thead>\n",
       "  <tbody>\n",
       "    <tr>\n",
       "      <th>1326</th>\n",
       "      <td>AF</td>\n",
       "      <td>Afghanistan</td>\n",
       "      <td>2007</td>\n",
       "      <td>7.9</td>\n",
       "    </tr>\n",
       "    <tr>\n",
       "      <th>1349</th>\n",
       "      <td>AL</td>\n",
       "      <td>Albania</td>\n",
       "      <td>2012</td>\n",
       "      <td>2.9</td>\n",
       "    </tr>\n",
       "    <tr>\n",
       "      <th>1359</th>\n",
       "      <td>AL</td>\n",
       "      <td>Albania</td>\n",
       "      <td>2002</td>\n",
       "      <td>5.7</td>\n",
       "    </tr>\n",
       "    <tr>\n",
       "      <th>1545</th>\n",
       "      <td>AM</td>\n",
       "      <td>Armenia</td>\n",
       "      <td>2012</td>\n",
       "      <td>5.6</td>\n",
       "    </tr>\n",
       "    <tr>\n",
       "      <th>1662</th>\n",
       "      <td>AZ</td>\n",
       "      <td>Azerbaijan</td>\n",
       "      <td>2007</td>\n",
       "      <td>2.0</td>\n",
       "    </tr>\n",
       "  </tbody>\n",
       "</table>\n",
       "</div>"
      ],
      "text/plain": [
       "     country_id country_name  year  value\n",
       "1326         AF  Afghanistan  2007    7.9\n",
       "1349         AL      Albania  2012    2.9\n",
       "1359         AL      Albania  2002    5.7\n",
       "1545         AM      Armenia  2012    5.6\n",
       "1662         AZ   Azerbaijan  2007    2.0"
      ]
     },
     "execution_count": 83,
     "metadata": {},
     "output_type": "execute_result"
    }
   ],
   "source": [
    "select_years = ['2002', '2007', '2012']\n",
    "\n",
    "df_select_years = no_missing[no_missing.year.isin(select_years)]\n",
    "df_select_not_null = df_select_years[df_select_years.notnull().all(axis=1)]\n",
    "\n",
    "df_select_not_null.head()"
   ]
  },
  {
   "cell_type": "markdown",
   "metadata": {},
   "source": [
    "Let's find countries that have at least two points."
   ]
  },
  {
   "cell_type": "code",
   "execution_count": 85,
   "metadata": {},
   "outputs": [
    {
     "data": {
      "text/html": [
       "<div>\n",
       "<style scoped>\n",
       "    .dataframe tbody tr th:only-of-type {\n",
       "        vertical-align: middle;\n",
       "    }\n",
       "\n",
       "    .dataframe tbody tr th {\n",
       "        vertical-align: top;\n",
       "    }\n",
       "\n",
       "    .dataframe thead th {\n",
       "        text-align: right;\n",
       "    }\n",
       "</style>\n",
       "<table border=\"1\" class=\"dataframe\">\n",
       "  <thead>\n",
       "    <tr style=\"text-align: right;\">\n",
       "      <th>year</th>\n",
       "      <th>country_name</th>\n",
       "      <th>2002</th>\n",
       "      <th>2007</th>\n",
       "      <th>2012</th>\n",
       "    </tr>\n",
       "  </thead>\n",
       "  <tbody>\n",
       "    <tr>\n",
       "      <th>0</th>\n",
       "      <td>Afghanistan</td>\n",
       "      <td>NaN</td>\n",
       "      <td>7.9</td>\n",
       "      <td>NaN</td>\n",
       "    </tr>\n",
       "    <tr>\n",
       "      <th>1</th>\n",
       "      <td>Albania</td>\n",
       "      <td>5.7</td>\n",
       "      <td>NaN</td>\n",
       "      <td>2.9</td>\n",
       "    </tr>\n",
       "    <tr>\n",
       "      <th>2</th>\n",
       "      <td>Armenia</td>\n",
       "      <td>NaN</td>\n",
       "      <td>NaN</td>\n",
       "      <td>5.6</td>\n",
       "    </tr>\n",
       "    <tr>\n",
       "      <th>3</th>\n",
       "      <td>Azerbaijan</td>\n",
       "      <td>NaN</td>\n",
       "      <td>2.0</td>\n",
       "      <td>NaN</td>\n",
       "    </tr>\n",
       "    <tr>\n",
       "      <th>4</th>\n",
       "      <td>Benin</td>\n",
       "      <td>NaN</td>\n",
       "      <td>9.5</td>\n",
       "      <td>NaN</td>\n",
       "    </tr>\n",
       "  </tbody>\n",
       "</table>\n",
       "</div>"
      ],
      "text/plain": [
       "year country_name  2002  2007  2012\n",
       "0     Afghanistan   NaN   7.9   NaN\n",
       "1         Albania   5.7   NaN   2.9\n",
       "2         Armenia   NaN   NaN   5.6\n",
       "3      Azerbaijan   NaN   2.0   NaN\n",
       "4           Benin   NaN   9.5   NaN"
      ]
     },
     "execution_count": 85,
     "metadata": {},
     "output_type": "execute_result"
    }
   ],
   "source": [
    "df_pivot = df_select_not_null.pivot(index='country_name', columns='year', values='value').reset_index()\n",
    "df_pivot.head()"
   ]
  },
  {
   "cell_type": "code",
   "execution_count": 86,
   "metadata": {},
   "outputs": [
    {
     "data": {
      "text/plain": [
       "47"
      ]
     },
     "execution_count": 86,
     "metadata": {},
     "output_type": "execute_result"
    }
   ],
   "source": [
    "df_pivot.shape[0]"
   ]
  },
  {
   "cell_type": "code",
   "execution_count": 87,
   "metadata": {},
   "outputs": [],
   "source": [
    "df_pivot.dropna(subset=['2002', '2007', '2012'], thresh=2, inplace=True)"
   ]
  },
  {
   "cell_type": "code",
   "execution_count": 88,
   "metadata": {},
   "outputs": [
    {
     "data": {
      "text/plain": [
       "17"
      ]
     },
     "execution_count": 88,
     "metadata": {},
     "output_type": "execute_result"
    }
   ],
   "source": [
    "df_pivot.shape[0]"
   ]
  },
  {
   "cell_type": "code",
   "execution_count": 89,
   "metadata": {},
   "outputs": [],
   "source": [
    "select_countries = df_pivot.country_name"
   ]
  },
  {
   "cell_type": "markdown",
   "metadata": {},
   "source": [
    "Now we can filter for only these countries."
   ]
  },
  {
   "cell_type": "code",
   "execution_count": 90,
   "metadata": {},
   "outputs": [
    {
     "data": {
      "text/html": [
       "<div>\n",
       "<style scoped>\n",
       "    .dataframe tbody tr th:only-of-type {\n",
       "        vertical-align: middle;\n",
       "    }\n",
       "\n",
       "    .dataframe tbody tr th {\n",
       "        vertical-align: top;\n",
       "    }\n",
       "\n",
       "    .dataframe thead th {\n",
       "        text-align: right;\n",
       "    }\n",
       "</style>\n",
       "<table border=\"1\" class=\"dataframe\">\n",
       "  <thead>\n",
       "    <tr style=\"text-align: right;\">\n",
       "      <th></th>\n",
       "      <th>country_id</th>\n",
       "      <th>country_name</th>\n",
       "      <th>year</th>\n",
       "      <th>value</th>\n",
       "    </tr>\n",
       "  </thead>\n",
       "  <tbody>\n",
       "    <tr>\n",
       "      <th>1349</th>\n",
       "      <td>AL</td>\n",
       "      <td>Albania</td>\n",
       "      <td>2012</td>\n",
       "      <td>2.9</td>\n",
       "    </tr>\n",
       "    <tr>\n",
       "      <th>1359</th>\n",
       "      <td>AL</td>\n",
       "      <td>Albania</td>\n",
       "      <td>2002</td>\n",
       "      <td>5.7</td>\n",
       "    </tr>\n",
       "    <tr>\n",
       "      <th>1937</th>\n",
       "      <td>BT</td>\n",
       "      <td>Bhutan</td>\n",
       "      <td>2012</td>\n",
       "      <td>2.6</td>\n",
       "    </tr>\n",
       "    <tr>\n",
       "      <th>1942</th>\n",
       "      <td>BT</td>\n",
       "      <td>Bhutan</td>\n",
       "      <td>2007</td>\n",
       "      <td>6.1</td>\n",
       "    </tr>\n",
       "    <tr>\n",
       "      <th>1965</th>\n",
       "      <td>BO</td>\n",
       "      <td>Bolivia</td>\n",
       "      <td>2012</td>\n",
       "      <td>20.2</td>\n",
       "    </tr>\n",
       "    <tr>\n",
       "      <th>1970</th>\n",
       "      <td>BO</td>\n",
       "      <td>Bolivia</td>\n",
       "      <td>2007</td>\n",
       "      <td>30.5</td>\n",
       "    </tr>\n",
       "    <tr>\n",
       "      <th>1975</th>\n",
       "      <td>BO</td>\n",
       "      <td>Bolivia</td>\n",
       "      <td>2002</td>\n",
       "      <td>34.9</td>\n",
       "    </tr>\n",
       "    <tr>\n",
       "      <th>2917</th>\n",
       "      <td>EC</td>\n",
       "      <td>Ecuador</td>\n",
       "      <td>2012</td>\n",
       "      <td>10.5</td>\n",
       "    </tr>\n",
       "    <tr>\n",
       "      <th>2922</th>\n",
       "      <td>EC</td>\n",
       "      <td>Ecuador</td>\n",
       "      <td>2007</td>\n",
       "      <td>15.3</td>\n",
       "    </tr>\n",
       "    <tr>\n",
       "      <th>3589</th>\n",
       "      <td>GN</td>\n",
       "      <td>Guinea</td>\n",
       "      <td>2012</td>\n",
       "      <td>18.4</td>\n",
       "    </tr>\n",
       "    <tr>\n",
       "      <th>3594</th>\n",
       "      <td>GN</td>\n",
       "      <td>Guinea</td>\n",
       "      <td>2007</td>\n",
       "      <td>17.6</td>\n",
       "    </tr>\n",
       "    <tr>\n",
       "      <th>3599</th>\n",
       "      <td>GN</td>\n",
       "      <td>Guinea</td>\n",
       "      <td>2002</td>\n",
       "      <td>17.2</td>\n",
       "    </tr>\n",
       "    <tr>\n",
       "      <th>3701</th>\n",
       "      <td>HN</td>\n",
       "      <td>Honduras</td>\n",
       "      <td>2012</td>\n",
       "      <td>52.8</td>\n",
       "    </tr>\n",
       "    <tr>\n",
       "      <th>3706</th>\n",
       "      <td>HN</td>\n",
       "      <td>Honduras</td>\n",
       "      <td>2007</td>\n",
       "      <td>48.7</td>\n",
       "    </tr>\n",
       "    <tr>\n",
       "      <th>3711</th>\n",
       "      <td>HN</td>\n",
       "      <td>Honduras</td>\n",
       "      <td>2002</td>\n",
       "      <td>53.9</td>\n",
       "    </tr>\n",
       "    <tr>\n",
       "      <th>3841</th>\n",
       "      <td>ID</td>\n",
       "      <td>Indonesia</td>\n",
       "      <td>2012</td>\n",
       "      <td>1.9</td>\n",
       "    </tr>\n",
       "    <tr>\n",
       "      <th>3846</th>\n",
       "      <td>ID</td>\n",
       "      <td>Indonesia</td>\n",
       "      <td>2007</td>\n",
       "      <td>5.1</td>\n",
       "    </tr>\n",
       "    <tr>\n",
       "      <th>4121</th>\n",
       "      <td>KZ</td>\n",
       "      <td>Kazakhstan</td>\n",
       "      <td>2012</td>\n",
       "      <td>0.5</td>\n",
       "    </tr>\n",
       "    <tr>\n",
       "      <th>4126</th>\n",
       "      <td>KZ</td>\n",
       "      <td>Kazakhstan</td>\n",
       "      <td>2007</td>\n",
       "      <td>2.4</td>\n",
       "    </tr>\n",
       "    <tr>\n",
       "      <th>4131</th>\n",
       "      <td>KZ</td>\n",
       "      <td>Kazakhstan</td>\n",
       "      <td>2002</td>\n",
       "      <td>13.3</td>\n",
       "    </tr>\n",
       "    <tr>\n",
       "      <th>4317</th>\n",
       "      <td>KG</td>\n",
       "      <td>Kyrgyz Republic</td>\n",
       "      <td>2012</td>\n",
       "      <td>7.7</td>\n",
       "    </tr>\n",
       "    <tr>\n",
       "      <th>4322</th>\n",
       "      <td>KG</td>\n",
       "      <td>Kyrgyz Republic</td>\n",
       "      <td>2007</td>\n",
       "      <td>6.6</td>\n",
       "    </tr>\n",
       "    <tr>\n",
       "      <th>4345</th>\n",
       "      <td>LA</td>\n",
       "      <td>Lao PDR</td>\n",
       "      <td>2012</td>\n",
       "      <td>5.5</td>\n",
       "    </tr>\n",
       "    <tr>\n",
       "      <th>4350</th>\n",
       "      <td>LA</td>\n",
       "      <td>Lao PDR</td>\n",
       "      <td>2007</td>\n",
       "      <td>6.5</td>\n",
       "    </tr>\n",
       "    <tr>\n",
       "      <th>4355</th>\n",
       "      <td>LA</td>\n",
       "      <td>Lao PDR</td>\n",
       "      <td>2002</td>\n",
       "      <td>8.0</td>\n",
       "    </tr>\n",
       "    <tr>\n",
       "      <th>4961</th>\n",
       "      <td>MD</td>\n",
       "      <td>Moldova</td>\n",
       "      <td>2012</td>\n",
       "      <td>2.9</td>\n",
       "    </tr>\n",
       "    <tr>\n",
       "      <th>4966</th>\n",
       "      <td>MD</td>\n",
       "      <td>Moldova</td>\n",
       "      <td>2007</td>\n",
       "      <td>5.9</td>\n",
       "    </tr>\n",
       "    <tr>\n",
       "      <th>5045</th>\n",
       "      <td>ME</td>\n",
       "      <td>Montenegro</td>\n",
       "      <td>2012</td>\n",
       "      <td>2.8</td>\n",
       "    </tr>\n",
       "    <tr>\n",
       "      <th>5050</th>\n",
       "      <td>ME</td>\n",
       "      <td>Montenegro</td>\n",
       "      <td>2007</td>\n",
       "      <td>1.4</td>\n",
       "    </tr>\n",
       "    <tr>\n",
       "      <th>5633</th>\n",
       "      <td>PE</td>\n",
       "      <td>Peru</td>\n",
       "      <td>2012</td>\n",
       "      <td>7.1</td>\n",
       "    </tr>\n",
       "    <tr>\n",
       "      <th>5638</th>\n",
       "      <td>PE</td>\n",
       "      <td>Peru</td>\n",
       "      <td>2007</td>\n",
       "      <td>14.2</td>\n",
       "    </tr>\n",
       "    <tr>\n",
       "      <th>5829</th>\n",
       "      <td>RU</td>\n",
       "      <td>Russian Federation</td>\n",
       "      <td>2012</td>\n",
       "      <td>0.9</td>\n",
       "    </tr>\n",
       "    <tr>\n",
       "      <th>5834</th>\n",
       "      <td>RU</td>\n",
       "      <td>Russian Federation</td>\n",
       "      <td>2007</td>\n",
       "      <td>1.3</td>\n",
       "    </tr>\n",
       "    <tr>\n",
       "      <th>5839</th>\n",
       "      <td>RU</td>\n",
       "      <td>Russian Federation</td>\n",
       "      <td>2002</td>\n",
       "      <td>3.7</td>\n",
       "    </tr>\n",
       "    <tr>\n",
       "      <th>6361</th>\n",
       "      <td>LK</td>\n",
       "      <td>Sri Lanka</td>\n",
       "      <td>2012</td>\n",
       "      <td>1.2</td>\n",
       "    </tr>\n",
       "    <tr>\n",
       "      <th>6371</th>\n",
       "      <td>LK</td>\n",
       "      <td>Sri Lanka</td>\n",
       "      <td>2002</td>\n",
       "      <td>5.1</td>\n",
       "    </tr>\n",
       "    <tr>\n",
       "      <th>6977</th>\n",
       "      <td>UG</td>\n",
       "      <td>Uganda</td>\n",
       "      <td>2012</td>\n",
       "      <td>5.2</td>\n",
       "    </tr>\n",
       "    <tr>\n",
       "      <th>6987</th>\n",
       "      <td>UG</td>\n",
       "      <td>Uganda</td>\n",
       "      <td>2002</td>\n",
       "      <td>11.9</td>\n",
       "    </tr>\n",
       "    <tr>\n",
       "      <th>7117</th>\n",
       "      <td>UY</td>\n",
       "      <td>Uruguay</td>\n",
       "      <td>2012</td>\n",
       "      <td>2.2</td>\n",
       "    </tr>\n",
       "    <tr>\n",
       "      <th>7122</th>\n",
       "      <td>UY</td>\n",
       "      <td>Uruguay</td>\n",
       "      <td>2007</td>\n",
       "      <td>6.7</td>\n",
       "    </tr>\n",
       "  </tbody>\n",
       "</table>\n",
       "</div>"
      ],
      "text/plain": [
       "     country_id        country_name  year  value\n",
       "1349         AL             Albania  2012    2.9\n",
       "1359         AL             Albania  2002    5.7\n",
       "1937         BT              Bhutan  2012    2.6\n",
       "1942         BT              Bhutan  2007    6.1\n",
       "1965         BO             Bolivia  2012   20.2\n",
       "1970         BO             Bolivia  2007   30.5\n",
       "1975         BO             Bolivia  2002   34.9\n",
       "2917         EC             Ecuador  2012   10.5\n",
       "2922         EC             Ecuador  2007   15.3\n",
       "3589         GN              Guinea  2012   18.4\n",
       "3594         GN              Guinea  2007   17.6\n",
       "3599         GN              Guinea  2002   17.2\n",
       "3701         HN            Honduras  2012   52.8\n",
       "3706         HN            Honduras  2007   48.7\n",
       "3711         HN            Honduras  2002   53.9\n",
       "3841         ID           Indonesia  2012    1.9\n",
       "3846         ID           Indonesia  2007    5.1\n",
       "4121         KZ          Kazakhstan  2012    0.5\n",
       "4126         KZ          Kazakhstan  2007    2.4\n",
       "4131         KZ          Kazakhstan  2002   13.3\n",
       "4317         KG     Kyrgyz Republic  2012    7.7\n",
       "4322         KG     Kyrgyz Republic  2007    6.6\n",
       "4345         LA             Lao PDR  2012    5.5\n",
       "4350         LA             Lao PDR  2007    6.5\n",
       "4355         LA             Lao PDR  2002    8.0\n",
       "4961         MD             Moldova  2012    2.9\n",
       "4966         MD             Moldova  2007    5.9\n",
       "5045         ME          Montenegro  2012    2.8\n",
       "5050         ME          Montenegro  2007    1.4\n",
       "5633         PE                Peru  2012    7.1\n",
       "5638         PE                Peru  2007   14.2\n",
       "5829         RU  Russian Federation  2012    0.9\n",
       "5834         RU  Russian Federation  2007    1.3\n",
       "5839         RU  Russian Federation  2002    3.7\n",
       "6361         LK           Sri Lanka  2012    1.2\n",
       "6371         LK           Sri Lanka  2002    5.1\n",
       "6977         UG              Uganda  2012    5.2\n",
       "6987         UG              Uganda  2002   11.9\n",
       "7117         UY             Uruguay  2012    2.2\n",
       "7122         UY             Uruguay  2007    6.7"
      ]
     },
     "execution_count": 90,
     "metadata": {},
     "output_type": "execute_result"
    }
   ],
   "source": [
    "df_final = df_select_not_null[df_select_not_null.country_name.isin(select_countries)]\n",
    "df_final"
   ]
  },
  {
   "cell_type": "code",
   "execution_count": 91,
   "metadata": {},
   "outputs": [
    {
     "data": {
      "image/png": "[encoded data removed]",
      "text/plain": [
       "<Figure size 1080x864 with 1 Axes>"
      ]
     },
     "metadata": {
      "needs_background": "light"
     },
     "output_type": "display_data"
    }
   ],
   "source": [
    "plt.figure(figsize=(15, 12))\n",
    "sns.pointplot(x='year', y='value', hue='country_name', data=df_final);"
   ]
  },
  {
   "cell_type": "markdown",
   "metadata": {},
   "source": [
    "The countries that have data for this index seem to be poorer countries. \n",
    "\n",
    "Is there any indicator that has a wider spread of countries that have collected data?\n",
    "\n",
    "What about:\n",
    "- Income of highest 10%: SI.DST.10TH.10\n",
    "- Income of lowest 10%: SI.DST.FRST.10"
   ]
  },
  {
   "cell_type": "code",
   "execution_count": 93,
   "metadata": {},
   "outputs": [],
   "source": [
    "params = {'format': 'json', 'per_page': '1000', 'date': '1990:2017'}\n",
    "\n",
    "for data_code, file_name in zip(['SI.DST.10TH.10', 'SI.DST.FRST.10'], ['highest_10', 'lowest_10']):\n",
    "    full_query(data_code, params, 'data/' + file_name)"
   ]
  },
  {
   "cell_type": "code",
   "execution_count": 94,
   "metadata": {},
   "outputs": [
    {
     "data": {
      "text/html": [
       "<div>\n",
       "<style scoped>\n",
       "    .dataframe tbody tr th:only-of-type {\n",
       "        vertical-align: middle;\n",
       "    }\n",
       "\n",
       "    .dataframe tbody tr th {\n",
       "        vertical-align: top;\n",
       "    }\n",
       "\n",
       "    .dataframe thead th {\n",
       "        text-align: right;\n",
       "    }\n",
       "</style>\n",
       "<table border=\"1\" class=\"dataframe\">\n",
       "  <thead>\n",
       "    <tr style=\"text-align: right;\">\n",
       "      <th></th>\n",
       "      <th>country_id</th>\n",
       "      <th>country_name</th>\n",
       "      <th>year</th>\n",
       "      <th>value</th>\n",
       "    </tr>\n",
       "  </thead>\n",
       "  <tbody>\n",
       "    <tr>\n",
       "      <th>0</th>\n",
       "      <td>1A</td>\n",
       "      <td>Arab World</td>\n",
       "      <td>2017</td>\n",
       "      <td>NaN</td>\n",
       "    </tr>\n",
       "    <tr>\n",
       "      <th>1</th>\n",
       "      <td>1A</td>\n",
       "      <td>Arab World</td>\n",
       "      <td>2016</td>\n",
       "      <td>NaN</td>\n",
       "    </tr>\n",
       "    <tr>\n",
       "      <th>2</th>\n",
       "      <td>1A</td>\n",
       "      <td>Arab World</td>\n",
       "      <td>2015</td>\n",
       "      <td>NaN</td>\n",
       "    </tr>\n",
       "    <tr>\n",
       "      <th>3</th>\n",
       "      <td>1A</td>\n",
       "      <td>Arab World</td>\n",
       "      <td>2014</td>\n",
       "      <td>NaN</td>\n",
       "    </tr>\n",
       "    <tr>\n",
       "      <th>4</th>\n",
       "      <td>1A</td>\n",
       "      <td>Arab World</td>\n",
       "      <td>2013</td>\n",
       "      <td>NaN</td>\n",
       "    </tr>\n",
       "  </tbody>\n",
       "</table>\n",
       "</div>"
      ],
      "text/plain": [
       "  country_id country_name  year  value\n",
       "0         1A   Arab World  2017    NaN\n",
       "1         1A   Arab World  2016    NaN\n",
       "2         1A   Arab World  2015    NaN\n",
       "3         1A   Arab World  2014    NaN\n",
       "4         1A   Arab World  2013    NaN"
      ]
     },
     "execution_count": 94,
     "metadata": {},
     "output_type": "execute_result"
    }
   ],
   "source": [
    "df_highest = extract_data('data/highest_10')\n",
    "df_highest.head()"
   ]
  },
  {
   "cell_type": "code",
   "execution_count": 96,
   "metadata": {},
   "outputs": [
    {
     "data": {
      "text/plain": [
       "(1304, 4)"
      ]
     },
     "execution_count": 96,
     "metadata": {},
     "output_type": "execute_result"
    }
   ],
   "source": [
    "df_h_notna = df_highest.dropna()\n",
    "df_h_notna.shape"
   ]
  },
  {
   "cell_type": "code",
   "execution_count": 97,
   "metadata": {},
   "outputs": [
    {
     "data": {
      "text/html": [
       "<div>\n",
       "<style scoped>\n",
       "    .dataframe tbody tr th:only-of-type {\n",
       "        vertical-align: middle;\n",
       "    }\n",
       "\n",
       "    .dataframe tbody tr th {\n",
       "        vertical-align: top;\n",
       "    }\n",
       "\n",
       "    .dataframe thead th {\n",
       "        text-align: right;\n",
       "    }\n",
       "</style>\n",
       "<table border=\"1\" class=\"dataframe\">\n",
       "  <thead>\n",
       "    <tr style=\"text-align: right;\">\n",
       "      <th></th>\n",
       "      <th>country_id</th>\n",
       "      <th>country_name</th>\n",
       "      <th>year</th>\n",
       "      <th>value</th>\n",
       "    </tr>\n",
       "  </thead>\n",
       "  <tbody>\n",
       "    <tr>\n",
       "      <th>0</th>\n",
       "      <td>1A</td>\n",
       "      <td>Arab World</td>\n",
       "      <td>2017</td>\n",
       "      <td>NaN</td>\n",
       "    </tr>\n",
       "    <tr>\n",
       "      <th>1</th>\n",
       "      <td>1A</td>\n",
       "      <td>Arab World</td>\n",
       "      <td>2016</td>\n",
       "      <td>NaN</td>\n",
       "    </tr>\n",
       "    <tr>\n",
       "      <th>2</th>\n",
       "      <td>1A</td>\n",
       "      <td>Arab World</td>\n",
       "      <td>2015</td>\n",
       "      <td>NaN</td>\n",
       "    </tr>\n",
       "    <tr>\n",
       "      <th>3</th>\n",
       "      <td>1A</td>\n",
       "      <td>Arab World</td>\n",
       "      <td>2014</td>\n",
       "      <td>NaN</td>\n",
       "    </tr>\n",
       "    <tr>\n",
       "      <th>4</th>\n",
       "      <td>1A</td>\n",
       "      <td>Arab World</td>\n",
       "      <td>2013</td>\n",
       "      <td>NaN</td>\n",
       "    </tr>\n",
       "  </tbody>\n",
       "</table>\n",
       "</div>"
      ],
      "text/plain": [
       "  country_id country_name  year  value\n",
       "0         1A   Arab World  2017    NaN\n",
       "1         1A   Arab World  2016    NaN\n",
       "2         1A   Arab World  2015    NaN\n",
       "3         1A   Arab World  2014    NaN\n",
       "4         1A   Arab World  2013    NaN"
      ]
     },
     "execution_count": 97,
     "metadata": {},
     "output_type": "execute_result"
    }
   ],
   "source": [
    "df_lowest = extract_data('data/lowest_10')\n",
    "df_lowest.head()"
   ]
  },
  {
   "cell_type": "code",
   "execution_count": 101,
   "metadata": {},
   "outputs": [
    {
     "data": {
      "text/plain": [
       "(1304, 4)"
      ]
     },
     "execution_count": 101,
     "metadata": {},
     "output_type": "execute_result"
    }
   ],
   "source": [
    "df_l_notna = df_lowest.dropna()\n",
    "df_l_notna.shape"
   ]
  },
  {
   "cell_type": "markdown",
   "metadata": {},
   "source": [
    "Happily it would appear that the countries and years that have data for these indicators are the same."
   ]
  },
  {
   "cell_type": "code",
   "execution_count": 103,
   "metadata": {},
   "outputs": [
    {
     "data": {
      "text/plain": [
       "country_id      1304\n",
       "country_name    1304\n",
       "year            1304\n",
       "dtype: int64"
      ]
     },
     "execution_count": 103,
     "metadata": {},
     "output_type": "execute_result"
    }
   ],
   "source": [
    "(df_l_notna.drop('value', axis=1) == df_h_notna.drop('value', axis=1)).sum()"
   ]
  },
  {
   "cell_type": "markdown",
   "metadata": {},
   "source": [
    "Yes, this is correct, all cells in all rows for both df, apart from value are equal.\n",
    "\n",
    "What years have the most data?"
   ]
  },
  {
   "cell_type": "code",
   "execution_count": 104,
   "metadata": {},
   "outputs": [
    {
     "data": {
      "text/plain": [
       "year\n",
       "2010    82\n",
       "2012    76\n",
       "2011    75\n",
       "2009    74\n",
       "2005    72\n",
       "2013    72\n",
       "2006    72\n",
       "2014    71\n",
       "2008    71\n",
       "2007    71\n",
       "2004    68\n",
       "2015    67\n",
       "2003    53\n",
       "2002    44\n",
       "1998    36\n",
       "2001    34\n",
       "2000    33\n",
       "2016    29\n",
       "1996    29\n",
       "1999    27\n",
       "1992    26\n",
       "1995    24\n",
       "1997    22\n",
       "1994    22\n",
       "1993    22\n",
       "1990    15\n",
       "1991    14\n",
       "2017     3\n",
       "Name: year, dtype: int64"
      ]
     },
     "execution_count": 104,
     "metadata": {},
     "output_type": "execute_result"
    }
   ],
   "source": [
    "df_l_notna.groupby('year')['year'].count().sort_values(ascending=False)"
   ]
  },
  {
   "cell_type": "markdown",
   "metadata": {},
   "source": [
    "Looks like we have decent data from 2005 to 2015."
   ]
  },
  {
   "cell_type": "markdown",
   "metadata": {},
   "source": [
    "Let's do a quick plot of the distribution of the two dataframes."
   ]
  },
  {
   "cell_type": "code",
   "execution_count": 105,
   "metadata": {},
   "outputs": [
    {
     "data": {
      "image/png": "[encoded data removed]",
      "text/plain": [
       "<Figure size 432x288 with 1 Axes>"
      ]
     },
     "metadata": {
      "needs_background": "light"
     },
     "output_type": "display_data"
    }
   ],
   "source": [
    "df_l_notna.hist();"
   ]
  },
  {
   "cell_type": "code",
   "execution_count": 106,
   "metadata": {},
   "outputs": [
    {
     "data": {
      "image/png": "[encoded data removed]",
      "text/plain": [
       "<Figure size 432x288 with 1 Axes>"
      ]
     },
     "metadata": {
      "needs_background": "light"
     },
     "output_type": "display_data"
    }
   ],
   "source": [
    "df_h_notna.hist();"
   ]
  },
  {
   "cell_type": "markdown",
   "metadata": {},
   "source": [
    "The unit here is income share, so there is not too large of a difference between the two. \n",
    "\n",
    "These datasets can definitely be joined and melted. "
   ]
  },
  {
   "cell_type": "code",
   "execution_count": 110,
   "metadata": {},
   "outputs": [
    {
     "data": {
      "text/html": [
       "<div>\n",
       "<style scoped>\n",
       "    .dataframe tbody tr th:only-of-type {\n",
       "        vertical-align: middle;\n",
       "    }\n",
       "\n",
       "    .dataframe tbody tr th {\n",
       "        vertical-align: top;\n",
       "    }\n",
       "\n",
       "    .dataframe thead th {\n",
       "        text-align: right;\n",
       "    }\n",
       "</style>\n",
       "<table border=\"1\" class=\"dataframe\">\n",
       "  <thead>\n",
       "    <tr style=\"text-align: right;\">\n",
       "      <th></th>\n",
       "      <th>country</th>\n",
       "      <th>year</th>\n",
       "      <th>lowest_10</th>\n",
       "      <th>highest_10</th>\n",
       "    </tr>\n",
       "  </thead>\n",
       "  <tbody>\n",
       "    <tr>\n",
       "      <th>0</th>\n",
       "      <td>Albania</td>\n",
       "      <td>2012</td>\n",
       "      <td>3.7</td>\n",
       "      <td>22.9</td>\n",
       "    </tr>\n",
       "    <tr>\n",
       "      <th>1</th>\n",
       "      <td>Albania</td>\n",
       "      <td>2008</td>\n",
       "      <td>3.7</td>\n",
       "      <td>24.5</td>\n",
       "    </tr>\n",
       "    <tr>\n",
       "      <th>2</th>\n",
       "      <td>Albania</td>\n",
       "      <td>2005</td>\n",
       "      <td>3.5</td>\n",
       "      <td>24.3</td>\n",
       "    </tr>\n",
       "    <tr>\n",
       "      <th>3</th>\n",
       "      <td>Albania</td>\n",
       "      <td>2002</td>\n",
       "      <td>3.5</td>\n",
       "      <td>25.4</td>\n",
       "    </tr>\n",
       "    <tr>\n",
       "      <th>4</th>\n",
       "      <td>Albania</td>\n",
       "      <td>1996</td>\n",
       "      <td>3.9</td>\n",
       "      <td>21.2</td>\n",
       "    </tr>\n",
       "  </tbody>\n",
       "</table>\n",
       "</div>"
      ],
      "text/plain": [
       "   country  year  lowest_10  highest_10\n",
       "0  Albania  2012        3.7        22.9\n",
       "1  Albania  2008        3.7        24.5\n",
       "2  Albania  2005        3.5        24.3\n",
       "3  Albania  2002        3.5        25.4\n",
       "4  Albania  1996        3.9        21.2"
      ]
     },
     "execution_count": 110,
     "metadata": {},
     "output_type": "execute_result"
    }
   ],
   "source": [
    "df_income_full = df_l_notna.merge(df_h_notna, on=['country_name', 'year'])\n",
    "df_income_full.drop(['country_id_x', 'country_id_y'], axis=1, inplace=True)\n",
    "df_income_full.rename(columns={'value_x': 'lowest_10', 'value_y': 'highest_10', 'country_name': 'country'}, inplace=True)\n",
    "df_income_full.head()"
   ]
  },
  {
   "cell_type": "code",
   "execution_count": 111,
   "metadata": {},
   "outputs": [],
   "source": [
    "df_income_full['difference'] = df_income_full.highest_10 - df_income_full.lowest_10"
   ]
  },
  {
   "cell_type": "markdown",
   "metadata": {},
   "source": [
    "Let's filter for the years we are looking for and select countries that have data for the majority of the years. "
   ]
  },
  {
   "cell_type": "code",
   "execution_count": 114,
   "metadata": {},
   "outputs": [],
   "source": [
    "select_years = [str(x) for x in range(2005, 2016)]\n",
    "df_income_years = df_income_full[df_income_full.year.isin(select_years)]"
   ]
  },
  {
   "cell_type": "code",
   "execution_count": 125,
   "metadata": {},
   "outputs": [
    {
     "name": "stdout",
     "output_type": "stream",
     "text": [
      "83\n"
     ]
    },
    {
     "data": {
      "text/plain": [
       "0                     Albania\n",
       "3                   Argentina\n",
       "4                     Armenia\n",
       "6                     Austria\n",
       "9                     Belarus\n",
       "10                    Belgium\n",
       "13                    Bolivia\n",
       "14     Bosnia and Herzegovina\n",
       "16                     Brazil\n",
       "17                   Bulgaria\n",
       "22                     Canada\n",
       "25                      Chile\n",
       "27                   Colombia\n",
       "31                 Costa Rica\n",
       "33                    Croatia\n",
       "34                     Cyprus\n",
       "35             Czech Republic\n",
       "36                    Denmark\n",
       "38         Dominican Republic\n",
       "39                    Ecuador\n",
       "40           Egypt, Arab Rep.\n",
       "41                El Salvador\n",
       "42                    Estonia\n",
       "46                    Finland\n",
       "47                     France\n",
       "50                    Georgia\n",
       "51                    Germany\n",
       "53                     Greece\n",
       "58                   Honduras\n",
       "59                    Hungary\n",
       "                ...          \n",
       "103                 Nicaragua\n",
       "104                     Niger\n",
       "106                    Norway\n",
       "107                  Pakistan\n",
       "108                    Panama\n",
       "110                  Paraguay\n",
       "111                      Peru\n",
       "112                  Portugal\n",
       "113                   Romania\n",
       "114        Russian Federation\n",
       "115                    Rwanda\n",
       "121           Slovak Republic\n",
       "122                  Slovenia\n",
       "124              South Africa\n",
       "126                     Spain\n",
       "127                 Sri Lanka\n",
       "129                    Sweden\n",
       "130               Switzerland\n",
       "131                Tajikistan\n",
       "133                  Thailand\n",
       "135                      Togo\n",
       "138                    Turkey\n",
       "140                    Uganda\n",
       "141                   Ukraine\n",
       "142            United Kingdom\n",
       "143             United States\n",
       "144                   Uruguay\n",
       "147                   Vietnam\n",
       "148        West Bank and Gaza\n",
       "150                    Zambia\n",
       "Name: country, Length: 83, dtype: object"
      ]
     },
     "execution_count": 125,
     "metadata": {},
     "output_type": "execute_result"
    }
   ],
   "source": [
    "df_income_pivot = df_income_years.pivot(index='country', columns='year', values='lowest_10').reset_index()\n",
    "df_income_pivot.dropna(subset=select_years, thresh=3, inplace=True)\n",
    "select_countries = df_income_pivot.country\n",
    "print(len(select_countries))\n",
    "select_countries"
   ]
  },
  {
   "cell_type": "markdown",
   "metadata": {},
   "source": [
    "Interesting, the United States, Canada, and Australia are not in this list. Let's see what data they have."
   ]
  },
  {
   "cell_type": "code",
   "execution_count": 116,
   "metadata": {},
   "outputs": [
    {
     "data": {
      "text/html": [
       "<div>\n",
       "<style scoped>\n",
       "    .dataframe tbody tr th:only-of-type {\n",
       "        vertical-align: middle;\n",
       "    }\n",
       "\n",
       "    .dataframe tbody tr th {\n",
       "        vertical-align: top;\n",
       "    }\n",
       "\n",
       "    .dataframe thead th {\n",
       "        text-align: right;\n",
       "    }\n",
       "</style>\n",
       "<table border=\"1\" class=\"dataframe\">\n",
       "  <thead>\n",
       "    <tr style=\"text-align: right;\">\n",
       "      <th></th>\n",
       "      <th>country</th>\n",
       "      <th>year</th>\n",
       "      <th>lowest_10</th>\n",
       "      <th>highest_10</th>\n",
       "      <th>difference</th>\n",
       "    </tr>\n",
       "  </thead>\n",
       "  <tbody>\n",
       "    <tr>\n",
       "      <th>51</th>\n",
       "      <td>Australia</td>\n",
       "      <td>2010</td>\n",
       "      <td>2.8</td>\n",
       "      <td>26.4</td>\n",
       "      <td>23.6</td>\n",
       "    </tr>\n",
       "    <tr>\n",
       "      <th>52</th>\n",
       "      <td>Australia</td>\n",
       "      <td>2008</td>\n",
       "      <td>2.8</td>\n",
       "      <td>27.4</td>\n",
       "      <td>24.6</td>\n",
       "    </tr>\n",
       "    <tr>\n",
       "      <th>53</th>\n",
       "      <td>Australia</td>\n",
       "      <td>2003</td>\n",
       "      <td>2.7</td>\n",
       "      <td>25.1</td>\n",
       "      <td>22.4</td>\n",
       "    </tr>\n",
       "    <tr>\n",
       "      <th>54</th>\n",
       "      <td>Australia</td>\n",
       "      <td>2001</td>\n",
       "      <td>2.7</td>\n",
       "      <td>25.1</td>\n",
       "      <td>22.4</td>\n",
       "    </tr>\n",
       "    <tr>\n",
       "      <th>55</th>\n",
       "      <td>Australia</td>\n",
       "      <td>1995</td>\n",
       "      <td>2.9</td>\n",
       "      <td>24.6</td>\n",
       "      <td>21.7</td>\n",
       "    </tr>\n",
       "  </tbody>\n",
       "</table>\n",
       "</div>"
      ],
      "text/plain": [
       "      country  year  lowest_10  highest_10  difference\n",
       "51  Australia  2010        2.8        26.4        23.6\n",
       "52  Australia  2008        2.8        27.4        24.6\n",
       "53  Australia  2003        2.7        25.1        22.4\n",
       "54  Australia  2001        2.7        25.1        22.4\n",
       "55  Australia  1995        2.9        24.6        21.7"
      ]
     },
     "execution_count": 116,
     "metadata": {},
     "output_type": "execute_result"
    }
   ],
   "source": [
    "df_income_full.query('country == \"Australia\"')"
   ]
  },
  {
   "cell_type": "code",
   "execution_count": 117,
   "metadata": {},
   "outputs": [
    {
     "data": {
      "text/html": [
       "<div>\n",
       "<style scoped>\n",
       "    .dataframe tbody tr th:only-of-type {\n",
       "        vertical-align: middle;\n",
       "    }\n",
       "\n",
       "    .dataframe tbody tr th {\n",
       "        vertical-align: top;\n",
       "    }\n",
       "\n",
       "    .dataframe thead th {\n",
       "        text-align: right;\n",
       "    }\n",
       "</style>\n",
       "<table border=\"1\" class=\"dataframe\">\n",
       "  <thead>\n",
       "    <tr style=\"text-align: right;\">\n",
       "      <th></th>\n",
       "      <th>country</th>\n",
       "      <th>year</th>\n",
       "      <th>lowest_10</th>\n",
       "      <th>highest_10</th>\n",
       "      <th>difference</th>\n",
       "    </tr>\n",
       "  </thead>\n",
       "  <tbody>\n",
       "    <tr>\n",
       "      <th>199</th>\n",
       "      <td>Canada</td>\n",
       "      <td>2013</td>\n",
       "      <td>2.4</td>\n",
       "      <td>25.3</td>\n",
       "      <td>22.9</td>\n",
       "    </tr>\n",
       "    <tr>\n",
       "      <th>200</th>\n",
       "      <td>Canada</td>\n",
       "      <td>2010</td>\n",
       "      <td>2.7</td>\n",
       "      <td>25.7</td>\n",
       "      <td>23.0</td>\n",
       "    </tr>\n",
       "    <tr>\n",
       "      <th>201</th>\n",
       "      <td>Canada</td>\n",
       "      <td>2007</td>\n",
       "      <td>2.7</td>\n",
       "      <td>26.0</td>\n",
       "      <td>23.3</td>\n",
       "    </tr>\n",
       "    <tr>\n",
       "      <th>202</th>\n",
       "      <td>Canada</td>\n",
       "      <td>2004</td>\n",
       "      <td>2.6</td>\n",
       "      <td>25.6</td>\n",
       "      <td>23.0</td>\n",
       "    </tr>\n",
       "    <tr>\n",
       "      <th>203</th>\n",
       "      <td>Canada</td>\n",
       "      <td>2000</td>\n",
       "      <td>2.7</td>\n",
       "      <td>25.5</td>\n",
       "      <td>22.8</td>\n",
       "    </tr>\n",
       "    <tr>\n",
       "      <th>204</th>\n",
       "      <td>Canada</td>\n",
       "      <td>1998</td>\n",
       "      <td>2.7</td>\n",
       "      <td>25.3</td>\n",
       "      <td>22.6</td>\n",
       "    </tr>\n",
       "    <tr>\n",
       "      <th>205</th>\n",
       "      <td>Canada</td>\n",
       "      <td>1997</td>\n",
       "      <td>2.8</td>\n",
       "      <td>23.8</td>\n",
       "      <td>21.0</td>\n",
       "    </tr>\n",
       "    <tr>\n",
       "      <th>206</th>\n",
       "      <td>Canada</td>\n",
       "      <td>1994</td>\n",
       "      <td>2.9</td>\n",
       "      <td>23.6</td>\n",
       "      <td>20.7</td>\n",
       "    </tr>\n",
       "    <tr>\n",
       "      <th>207</th>\n",
       "      <td>Canada</td>\n",
       "      <td>1991</td>\n",
       "      <td>2.9</td>\n",
       "      <td>23.6</td>\n",
       "      <td>20.7</td>\n",
       "    </tr>\n",
       "  </tbody>\n",
       "</table>\n",
       "</div>"
      ],
      "text/plain": [
       "    country  year  lowest_10  highest_10  difference\n",
       "199  Canada  2013        2.4        25.3        22.9\n",
       "200  Canada  2010        2.7        25.7        23.0\n",
       "201  Canada  2007        2.7        26.0        23.3\n",
       "202  Canada  2004        2.6        25.6        23.0\n",
       "203  Canada  2000        2.7        25.5        22.8\n",
       "204  Canada  1998        2.7        25.3        22.6\n",
       "205  Canada  1997        2.8        23.8        21.0\n",
       "206  Canada  1994        2.9        23.6        20.7\n",
       "207  Canada  1991        2.9        23.6        20.7"
      ]
     },
     "execution_count": 117,
     "metadata": {},
     "output_type": "execute_result"
    }
   ],
   "source": [
    "df_income_full.query('country == \"Canada\"')"
   ]
  },
  {
   "cell_type": "code",
   "execution_count": 119,
   "metadata": {},
   "outputs": [
    {
     "data": {
      "text/html": [
       "<div>\n",
       "<style scoped>\n",
       "    .dataframe tbody tr th:only-of-type {\n",
       "        vertical-align: middle;\n",
       "    }\n",
       "\n",
       "    .dataframe tbody tr th {\n",
       "        vertical-align: top;\n",
       "    }\n",
       "\n",
       "    .dataframe thead th {\n",
       "        text-align: right;\n",
       "    }\n",
       "</style>\n",
       "<table border=\"1\" class=\"dataframe\">\n",
       "  <thead>\n",
       "    <tr style=\"text-align: right;\">\n",
       "      <th></th>\n",
       "      <th>country</th>\n",
       "      <th>year</th>\n",
       "      <th>lowest_10</th>\n",
       "      <th>highest_10</th>\n",
       "      <th>difference</th>\n",
       "    </tr>\n",
       "  </thead>\n",
       "  <tbody>\n",
       "    <tr>\n",
       "      <th>1238</th>\n",
       "      <td>United States</td>\n",
       "      <td>2016</td>\n",
       "      <td>1.7</td>\n",
       "      <td>30.6</td>\n",
       "      <td>28.9</td>\n",
       "    </tr>\n",
       "    <tr>\n",
       "      <th>1239</th>\n",
       "      <td>United States</td>\n",
       "      <td>2013</td>\n",
       "      <td>1.7</td>\n",
       "      <td>30.1</td>\n",
       "      <td>28.4</td>\n",
       "    </tr>\n",
       "    <tr>\n",
       "      <th>1240</th>\n",
       "      <td>United States</td>\n",
       "      <td>2010</td>\n",
       "      <td>1.7</td>\n",
       "      <td>29.4</td>\n",
       "      <td>27.7</td>\n",
       "    </tr>\n",
       "    <tr>\n",
       "      <th>1241</th>\n",
       "      <td>United States</td>\n",
       "      <td>2007</td>\n",
       "      <td>1.7</td>\n",
       "      <td>30.5</td>\n",
       "      <td>28.8</td>\n",
       "    </tr>\n",
       "    <tr>\n",
       "      <th>1242</th>\n",
       "      <td>United States</td>\n",
       "      <td>2004</td>\n",
       "      <td>1.7</td>\n",
       "      <td>30.2</td>\n",
       "      <td>28.5</td>\n",
       "    </tr>\n",
       "    <tr>\n",
       "      <th>1243</th>\n",
       "      <td>United States</td>\n",
       "      <td>2000</td>\n",
       "      <td>1.9</td>\n",
       "      <td>30.4</td>\n",
       "      <td>28.5</td>\n",
       "    </tr>\n",
       "    <tr>\n",
       "      <th>1244</th>\n",
       "      <td>United States</td>\n",
       "      <td>1997</td>\n",
       "      <td>1.8</td>\n",
       "      <td>30.5</td>\n",
       "      <td>28.7</td>\n",
       "    </tr>\n",
       "    <tr>\n",
       "      <th>1245</th>\n",
       "      <td>United States</td>\n",
       "      <td>1994</td>\n",
       "      <td>1.8</td>\n",
       "      <td>29.7</td>\n",
       "      <td>27.9</td>\n",
       "    </tr>\n",
       "    <tr>\n",
       "      <th>1246</th>\n",
       "      <td>United States</td>\n",
       "      <td>1991</td>\n",
       "      <td>1.9</td>\n",
       "      <td>27.6</td>\n",
       "      <td>25.7</td>\n",
       "    </tr>\n",
       "  </tbody>\n",
       "</table>\n",
       "</div>"
      ],
      "text/plain": [
       "            country  year  lowest_10  highest_10  difference\n",
       "1238  United States  2016        1.7        30.6        28.9\n",
       "1239  United States  2013        1.7        30.1        28.4\n",
       "1240  United States  2010        1.7        29.4        27.7\n",
       "1241  United States  2007        1.7        30.5        28.8\n",
       "1242  United States  2004        1.7        30.2        28.5\n",
       "1243  United States  2000        1.9        30.4        28.5\n",
       "1244  United States  1997        1.8        30.5        28.7\n",
       "1245  United States  1994        1.8        29.7        27.9\n",
       "1246  United States  1991        1.9        27.6        25.7"
      ]
     },
     "execution_count": 119,
     "metadata": {},
     "output_type": "execute_result"
    }
   ],
   "source": [
    "df_income_full.query('country == \"United States\"')"
   ]
  },
  {
   "cell_type": "markdown",
   "metadata": {},
   "source": [
    "Perhaps less surprisingly, the United States and Canada have data for most of the same years since 2000. Australia has very different years. All have below the threshold of 7 that was used. Let's update the threshold to 3."
   ]
  },
  {
   "cell_type": "markdown",
   "metadata": {},
   "source": [
    "It would be good to compare the countries with the highest difference to the countries with the lowest difference."
   ]
  },
  {
   "cell_type": "code",
   "execution_count": 126,
   "metadata": {},
   "outputs": [
    {
     "data": {
      "text/html": [
       "<div>\n",
       "<style scoped>\n",
       "    .dataframe tbody tr th:only-of-type {\n",
       "        vertical-align: middle;\n",
       "    }\n",
       "\n",
       "    .dataframe tbody tr th {\n",
       "        vertical-align: top;\n",
       "    }\n",
       "\n",
       "    .dataframe thead th {\n",
       "        text-align: right;\n",
       "    }\n",
       "</style>\n",
       "<table border=\"1\" class=\"dataframe\">\n",
       "  <thead>\n",
       "    <tr style=\"text-align: right;\">\n",
       "      <th></th>\n",
       "      <th>country</th>\n",
       "      <th>difference</th>\n",
       "    </tr>\n",
       "  </thead>\n",
       "  <tbody>\n",
       "    <tr>\n",
       "      <th>31</th>\n",
       "      <td>Indonesia</td>\n",
       "      <td>1.252174</td>\n",
       "    </tr>\n",
       "    <tr>\n",
       "      <th>65</th>\n",
       "      <td>Slovenia</td>\n",
       "      <td>17.069231</td>\n",
       "    </tr>\n",
       "    <tr>\n",
       "      <th>64</th>\n",
       "      <td>Slovak Republic</td>\n",
       "      <td>18.284615</td>\n",
       "    </tr>\n",
       "    <tr>\n",
       "      <th>69</th>\n",
       "      <td>Sweden</td>\n",
       "      <td>18.338462</td>\n",
       "    </tr>\n",
       "    <tr>\n",
       "      <th>17</th>\n",
       "      <td>Denmark</td>\n",
       "      <td>18.423077</td>\n",
       "    </tr>\n",
       "    <tr>\n",
       "      <th>16</th>\n",
       "      <td>Czech Republic</td>\n",
       "      <td>18.671429</td>\n",
       "    </tr>\n",
       "    <tr>\n",
       "      <th>55</th>\n",
       "      <td>Norway</td>\n",
       "      <td>18.707692</td>\n",
       "    </tr>\n",
       "    <tr>\n",
       "      <th>23</th>\n",
       "      <td>Finland</td>\n",
       "      <td>18.853846</td>\n",
       "    </tr>\n",
       "    <tr>\n",
       "      <th>76</th>\n",
       "      <td>Ukraine</td>\n",
       "      <td>18.936842</td>\n",
       "    </tr>\n",
       "    <tr>\n",
       "      <th>4</th>\n",
       "      <td>Belarus</td>\n",
       "      <td>19.231579</td>\n",
       "    </tr>\n",
       "    <tr>\n",
       "      <th>5</th>\n",
       "      <td>Belgium</td>\n",
       "      <td>19.400000</td>\n",
       "    </tr>\n",
       "    <tr>\n",
       "      <th>39</th>\n",
       "      <td>Kosovo</td>\n",
       "      <td>19.563636</td>\n",
       "    </tr>\n",
       "    <tr>\n",
       "      <th>47</th>\n",
       "      <td>Malta</td>\n",
       "      <td>19.600000</td>\n",
       "    </tr>\n",
       "    <tr>\n",
       "      <th>52</th>\n",
       "      <td>Netherlands</td>\n",
       "      <td>19.683333</td>\n",
       "    </tr>\n",
       "    <tr>\n",
       "      <th>30</th>\n",
       "      <td>Iceland</td>\n",
       "      <td>19.791667</td>\n",
       "    </tr>\n",
       "    <tr>\n",
       "      <th>0</th>\n",
       "      <td>Albania</td>\n",
       "      <td>20.000000</td>\n",
       "    </tr>\n",
       "    <tr>\n",
       "      <th>29</th>\n",
       "      <td>Hungary</td>\n",
       "      <td>20.392308</td>\n",
       "    </tr>\n",
       "    <tr>\n",
       "      <th>3</th>\n",
       "      <td>Austria</td>\n",
       "      <td>20.638462</td>\n",
       "    </tr>\n",
       "    <tr>\n",
       "      <th>26</th>\n",
       "      <td>Germany</td>\n",
       "      <td>20.690909</td>\n",
       "    </tr>\n",
       "    <tr>\n",
       "      <th>37</th>\n",
       "      <td>Kazakhstan</td>\n",
       "      <td>21.018750</td>\n",
       "    </tr>\n",
       "    <tr>\n",
       "      <th>51</th>\n",
       "      <td>Montenegro</td>\n",
       "      <td>21.020000</td>\n",
       "    </tr>\n",
       "    <tr>\n",
       "      <th>14</th>\n",
       "      <td>Croatia</td>\n",
       "      <td>21.228571</td>\n",
       "    </tr>\n",
       "    <tr>\n",
       "      <th>43</th>\n",
       "      <td>Luxembourg</td>\n",
       "      <td>21.330769</td>\n",
       "    </tr>\n",
       "    <tr>\n",
       "      <th>38</th>\n",
       "      <td>Korea, Rep.</td>\n",
       "      <td>21.500000</td>\n",
       "    </tr>\n",
       "    <tr>\n",
       "      <th>40</th>\n",
       "      <td>Kyrgyz Republic</td>\n",
       "      <td>21.716667</td>\n",
       "    </tr>\n",
       "    <tr>\n",
       "      <th>71</th>\n",
       "      <td>Tajikistan</td>\n",
       "      <td>22.050000</td>\n",
       "    </tr>\n",
       "    <tr>\n",
       "      <th>7</th>\n",
       "      <td>Bosnia and Herzegovina</td>\n",
       "      <td>22.220000</td>\n",
       "    </tr>\n",
       "    <tr>\n",
       "      <th>10</th>\n",
       "      <td>Canada</td>\n",
       "      <td>22.222222</td>\n",
       "    </tr>\n",
       "    <tr>\n",
       "      <th>50</th>\n",
       "      <td>Mongolia</td>\n",
       "      <td>22.411111</td>\n",
       "    </tr>\n",
       "    <tr>\n",
       "      <th>70</th>\n",
       "      <td>Switzerland</td>\n",
       "      <td>22.460000</td>\n",
       "    </tr>\n",
       "    <tr>\n",
       "      <th>...</th>\n",
       "      <td>...</td>\n",
       "      <td>...</td>\n",
       "    </tr>\n",
       "    <tr>\n",
       "      <th>54</th>\n",
       "      <td>Niger</td>\n",
       "      <td>27.500000</td>\n",
       "    </tr>\n",
       "    <tr>\n",
       "      <th>68</th>\n",
       "      <td>Sri Lanka</td>\n",
       "      <td>27.928571</td>\n",
       "    </tr>\n",
       "    <tr>\n",
       "      <th>78</th>\n",
       "      <td>United States</td>\n",
       "      <td>28.122222</td>\n",
       "    </tr>\n",
       "    <tr>\n",
       "      <th>62</th>\n",
       "      <td>Russian Federation</td>\n",
       "      <td>28.600000</td>\n",
       "    </tr>\n",
       "    <tr>\n",
       "      <th>74</th>\n",
       "      <td>Turkey</td>\n",
       "      <td>28.750000</td>\n",
       "    </tr>\n",
       "    <tr>\n",
       "      <th>72</th>\n",
       "      <td>Thailand</td>\n",
       "      <td>29.621053</td>\n",
       "    </tr>\n",
       "    <tr>\n",
       "      <th>32</th>\n",
       "      <td>Iran, Islamic Rep.</td>\n",
       "      <td>30.050000</td>\n",
       "    </tr>\n",
       "    <tr>\n",
       "      <th>79</th>\n",
       "      <td>Uruguay</td>\n",
       "      <td>30.145455</td>\n",
       "    </tr>\n",
       "    <tr>\n",
       "      <th>73</th>\n",
       "      <td>Togo</td>\n",
       "      <td>30.800000</td>\n",
       "    </tr>\n",
       "    <tr>\n",
       "      <th>45</th>\n",
       "      <td>Madagascar</td>\n",
       "      <td>30.971429</td>\n",
       "    </tr>\n",
       "    <tr>\n",
       "      <th>75</th>\n",
       "      <td>Uganda</td>\n",
       "      <td>31.950000</td>\n",
       "    </tr>\n",
       "    <tr>\n",
       "      <th>46</th>\n",
       "      <td>Malaysia</td>\n",
       "      <td>32.866667</td>\n",
       "    </tr>\n",
       "    <tr>\n",
       "      <th>1</th>\n",
       "      <td>Argentina</td>\n",
       "      <td>33.012000</td>\n",
       "    </tr>\n",
       "    <tr>\n",
       "      <th>21</th>\n",
       "      <td>El Salvador</td>\n",
       "      <td>34.718182</td>\n",
       "    </tr>\n",
       "    <tr>\n",
       "      <th>13</th>\n",
       "      <td>Costa Rica</td>\n",
       "      <td>35.059259</td>\n",
       "    </tr>\n",
       "    <tr>\n",
       "      <th>48</th>\n",
       "      <td>Mexico</td>\n",
       "      <td>35.971429</td>\n",
       "    </tr>\n",
       "    <tr>\n",
       "      <th>59</th>\n",
       "      <td>Peru</td>\n",
       "      <td>36.165000</td>\n",
       "    </tr>\n",
       "    <tr>\n",
       "      <th>18</th>\n",
       "      <td>Dominican Republic</td>\n",
       "      <td>36.480000</td>\n",
       "    </tr>\n",
       "    <tr>\n",
       "      <th>19</th>\n",
       "      <td>Ecuador</td>\n",
       "      <td>37.805556</td>\n",
       "    </tr>\n",
       "    <tr>\n",
       "      <th>63</th>\n",
       "      <td>Rwanda</td>\n",
       "      <td>38.500000</td>\n",
       "    </tr>\n",
       "    <tr>\n",
       "      <th>53</th>\n",
       "      <td>Nicaragua</td>\n",
       "      <td>38.800000</td>\n",
       "    </tr>\n",
       "    <tr>\n",
       "      <th>6</th>\n",
       "      <td>Bolivia</td>\n",
       "      <td>38.822222</td>\n",
       "    </tr>\n",
       "    <tr>\n",
       "      <th>58</th>\n",
       "      <td>Paraguay</td>\n",
       "      <td>39.200000</td>\n",
       "    </tr>\n",
       "    <tr>\n",
       "      <th>82</th>\n",
       "      <td>Zambia</td>\n",
       "      <td>39.422222</td>\n",
       "    </tr>\n",
       "    <tr>\n",
       "      <th>57</th>\n",
       "      <td>Panama</td>\n",
       "      <td>40.427273</td>\n",
       "    </tr>\n",
       "    <tr>\n",
       "      <th>11</th>\n",
       "      <td>Chile</td>\n",
       "      <td>40.566667</td>\n",
       "    </tr>\n",
       "    <tr>\n",
       "      <th>28</th>\n",
       "      <td>Honduras</td>\n",
       "      <td>41.334615</td>\n",
       "    </tr>\n",
       "    <tr>\n",
       "      <th>12</th>\n",
       "      <td>Colombia</td>\n",
       "      <td>42.216667</td>\n",
       "    </tr>\n",
       "    <tr>\n",
       "      <th>8</th>\n",
       "      <td>Brazil</td>\n",
       "      <td>43.531818</td>\n",
       "    </tr>\n",
       "    <tr>\n",
       "      <th>66</th>\n",
       "      <td>South Africa</td>\n",
       "      <td>48.428571</td>\n",
       "    </tr>\n",
       "  </tbody>\n",
       "</table>\n",
       "<p>83 rows × 2 columns</p>\n",
       "</div>"
      ],
      "text/plain": [
       "                   country  difference\n",
       "31               Indonesia    1.252174\n",
       "65                Slovenia   17.069231\n",
       "64         Slovak Republic   18.284615\n",
       "69                  Sweden   18.338462\n",
       "17                 Denmark   18.423077\n",
       "16          Czech Republic   18.671429\n",
       "55                  Norway   18.707692\n",
       "23                 Finland   18.853846\n",
       "76                 Ukraine   18.936842\n",
       "4                  Belarus   19.231579\n",
       "5                  Belgium   19.400000\n",
       "39                  Kosovo   19.563636\n",
       "47                   Malta   19.600000\n",
       "52             Netherlands   19.683333\n",
       "30                 Iceland   19.791667\n",
       "0                  Albania   20.000000\n",
       "29                 Hungary   20.392308\n",
       "3                  Austria   20.638462\n",
       "26                 Germany   20.690909\n",
       "37              Kazakhstan   21.018750\n",
       "51              Montenegro   21.020000\n",
       "14                 Croatia   21.228571\n",
       "43              Luxembourg   21.330769\n",
       "38             Korea, Rep.   21.500000\n",
       "40         Kyrgyz Republic   21.716667\n",
       "71              Tajikistan   22.050000\n",
       "7   Bosnia and Herzegovina   22.220000\n",
       "10                  Canada   22.222222\n",
       "50                Mongolia   22.411111\n",
       "70             Switzerland   22.460000\n",
       "..                     ...         ...\n",
       "54                   Niger   27.500000\n",
       "68               Sri Lanka   27.928571\n",
       "78           United States   28.122222\n",
       "62      Russian Federation   28.600000\n",
       "74                  Turkey   28.750000\n",
       "72                Thailand   29.621053\n",
       "32      Iran, Islamic Rep.   30.050000\n",
       "79                 Uruguay   30.145455\n",
       "73                    Togo   30.800000\n",
       "45              Madagascar   30.971429\n",
       "75                  Uganda   31.950000\n",
       "46                Malaysia   32.866667\n",
       "1                Argentina   33.012000\n",
       "21             El Salvador   34.718182\n",
       "13              Costa Rica   35.059259\n",
       "48                  Mexico   35.971429\n",
       "59                    Peru   36.165000\n",
       "18      Dominican Republic   36.480000\n",
       "19                 Ecuador   37.805556\n",
       "63                  Rwanda   38.500000\n",
       "53               Nicaragua   38.800000\n",
       "6                  Bolivia   38.822222\n",
       "58                Paraguay   39.200000\n",
       "82                  Zambia   39.422222\n",
       "57                  Panama   40.427273\n",
       "11                   Chile   40.566667\n",
       "28                Honduras   41.334615\n",
       "12                Colombia   42.216667\n",
       "8                   Brazil   43.531818\n",
       "66            South Africa   48.428571\n",
       "\n",
       "[83 rows x 2 columns]"
      ]
     },
     "execution_count": 126,
     "metadata": {},
     "output_type": "execute_result"
    }
   ],
   "source": [
    "in_selected_countries = df_income_full.country.isin(select_countries)\n",
    "df_country_diffs = df_income_full[in_selected_countries].groupby('country')['difference']\\\n",
    ".mean().reset_index().sort_values(by='difference')\n",
    "df_country_diffs"
   ]
  },
  {
   "cell_type": "markdown",
   "metadata": {},
   "source": [
    "Let's look at three different groupings - the highest and largest 10 (which can change over time), and the countries in the [G10](https://en.wikipedia.org/wiki/Group_of_Ten_(economics)."
   ]
  },
  {
   "cell_type": "code",
   "execution_count": 129,
   "metadata": {},
   "outputs": [],
   "source": [
    "smallest_10 = df_country_diffs.head(10)['country'][1:]\n",
    "largest_10 = df_country_diffs.tail(10)['country']\n",
    "g10 = ['Belgium', 'Canada', 'France', 'Germany', 'Italy',\n",
    "       'Japan', 'Netherlands', 'Sweden', 'Switzerland', 'United Kingdom', 'United States']"
   ]
  },
  {
   "cell_type": "code",
   "execution_count": 130,
   "metadata": {},
   "outputs": [
    {
     "data": {
      "image/png": "[encoded data removed]",
      "text/plain": [
       "<Figure size 576x432 with 1 Axes>"
      ]
     },
     "metadata": {
      "needs_background": "light"
     },
     "output_type": "display_data"
    }
   ],
   "source": [
    "in_smallest_10 = df_income_full.country.isin(smallest_10)\n",
    "\n",
    "plt.figure(figsize=(8, 6))\n",
    "sns.pointplot(x='year', y='difference', hue='country', data=df_income_full[in_smallest_10]);"
   ]
  },
  {
   "cell_type": "code",
   "execution_count": null,
   "metadata": {},
   "outputs": [],
   "source": []
  }
 ],
 "metadata": {
  "kernelspec": {
   "display_name": "Python [conda env:dand]",
   "language": "python",
   "name": "conda-env-dand-py"
  },
  "language_info": {
   "codemirror_mode": {
    "name": "ipython",
    "version": 3
   },
   "file_extension": ".py",
   "mimetype": "text/x-python",
   "name": "python",
   "nbconvert_exporter": "python",
   "pygments_lexer": "ipython3",
   "version": "3.6.6"
  }
 },
 "nbformat": 4,
 "nbformat_minor": 2
}
