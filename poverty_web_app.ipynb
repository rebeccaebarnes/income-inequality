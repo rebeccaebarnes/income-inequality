{
 "cells": [
  {
   "cell_type": "markdown",
   "metadata": {},
   "source": [
    "# World Bank Home Ownership\n",
    "\n",
    "This notebook contains code developed to query World Bank data on country poverty and income disparity. It also develops code necessary for plotly visualizations.  \n",
    "\n",
    "## Data\n",
    "The data can be found at: \n",
    "- Poverty rates: https://databank.worldbank.org/data/reports.aspx?source=2&series=SI.POV.NAGP\n",
    "- Lowest 10% income share: https://databank.worldbank.org/data/reports.aspx?source=2&series=SI.DST.FRST.10\n",
    "- Highest 10% income share: https://databank.worldbank.org/data/reports.aspx?source=2&series=SI.DST.10TH.10"
   ]
  },
  {
   "cell_type": "markdown",
   "metadata": {},
   "source": [
    "## Gather"
   ]
  },
  {
   "cell_type": "code",
   "execution_count": 51,
   "metadata": {},
   "outputs": [],
   "source": [
    "import json\n",
    "import requests\n",
    "import os\n",
    "\n",
    "import numpy as np\n",
    "import pandas as pd\n",
    "import matplotlib.pyplot as plt\n",
    "import seaborn as sns\n",
    "\n",
    "import plotly.plotly as py\n",
    "import plotly.graph_objs as go\n",
    "\n",
    "%matplotlib inline"
   ]
  },
  {
   "cell_type": "markdown",
   "metadata": {},
   "source": [
    "Let's create a function to complete the API query."
   ]
  },
  {
   "cell_type": "code",
   "execution_count": 2,
   "metadata": {},
   "outputs": [],
   "source": [
    "# Define query function\n",
    "def api_query(data_code, params):\n",
    "    link = 'https://api.worldbank.org/v2/en/country/all/indicator/'\n",
    "    r = requests.get(link + data_code, params=params)\n",
    "    return r.json()"
   ]
  },
  {
   "cell_type": "code",
   "execution_count": 55,
   "metadata": {},
   "outputs": [],
   "source": [
    "# Set up request parameters\n",
    "params = {'format': 'json', 'per_page': '1000', 'date': '1990:2017'}"
   ]
  },
  {
   "cell_type": "code",
   "execution_count": 4,
   "metadata": {},
   "outputs": [],
   "source": [
    "poverty = api_query('SI.POV.NAGP', params)"
   ]
  },
  {
   "cell_type": "code",
   "execution_count": 6,
   "metadata": {},
   "outputs": [
    {
     "data": {
      "text/plain": [
       "{'page': 1,\n",
       " 'pages': 7,\n",
       " 'per_page': 1000,\n",
       " 'total': 6864,\n",
       " 'sourceid': '2',\n",
       " 'lastupdated': '2019-01-30'}"
      ]
     },
     "execution_count": 6,
     "metadata": {},
     "output_type": "execute_result"
    }
   ],
   "source": [
    "# Get results details\n",
    "poverty[0]"
   ]
  },
  {
   "cell_type": "markdown",
   "metadata": {},
   "source": [
    "There are 7 pages of results that contain 6,864 records."
   ]
  },
  {
   "cell_type": "code",
   "execution_count": 15,
   "metadata": {},
   "outputs": [
    {
     "data": {
      "text/plain": [
       "{'indicator': {'id': 'SI.POV.NAGP',\n",
       "  'value': 'Poverty gap at national poverty lines (%)'},\n",
       " 'country': {'id': '1A', 'value': 'Arab World'},\n",
       " 'countryiso3code': '',\n",
       " 'date': '2015',\n",
       " 'value': None,\n",
       " 'unit': '',\n",
       " 'obs_status': '',\n",
       " 'decimal': 1}"
      ]
     },
     "execution_count": 15,
     "metadata": {},
     "output_type": "execute_result"
    }
   ],
   "source": [
    "poverty[1][0]"
   ]
  },
  {
   "cell_type": "markdown",
   "metadata": {},
   "source": [
    "The keys I want are `country['id']`, `country['value']`, `date`, `value`. With this information I can create a function that programmatically obtains the full number of pages, queries each and saves them. "
   ]
  },
  {
   "cell_type": "code",
   "execution_count": 29,
   "metadata": {},
   "outputs": [],
   "source": [
    "def full_query(data_code, params, folder_name):\n",
    "    # Complete initial query\n",
    "    initial = api_query(data_code, params)\n",
    "    \n",
    "    # Determine number of pages for full results\n",
    "    num_pages = initial[0]['pages']\n",
    "    \n",
    "    # Create data directory\n",
    "    if not os.path.exists(folder_name):\n",
    "        os.makedirs(folder_name)\n",
    "    \n",
    "    for i in range(num_pages):\n",
    "        # Save file\n",
    "        file_name = data_code + '_pg_' + str(i + 1) + '.txt'\n",
    "        file_path = os.path.join(folder_name, file_name)\n",
    "        if not os.path.isfile(file_path):\n",
    "            open(file_path, 'w').close()\n",
    "        \n",
    "        # Update params\n",
    "        params['page'] = i + 1\n",
    "        \n",
    "        # Complete query and save\n",
    "        results = api_query(data_code, params)\n",
    "        with open(file_path, 'w') as file:\n",
    "            json.dump(results, file)"
   ]
  },
  {
   "cell_type": "code",
   "execution_count": 56,
   "metadata": {},
   "outputs": [],
   "source": [
    "full_query('SI.POV.NAGP', params, 'data')"
   ]
  },
  {
   "cell_type": "markdown",
   "metadata": {},
   "source": [
    "Now I need to create a function to extract the data. I've saved each of the pages as separate files so I will need to collect all of them."
   ]
  },
  {
   "cell_type": "code",
   "execution_count": 13,
   "metadata": {},
   "outputs": [
    {
     "name": "stdout",
     "output_type": "stream",
     "text": [
      "country_map.txt\n",
      "SI.POV.NAGP_pg_1.txt\n",
      "SI.POV.NAGP_pg_2.txt\n",
      "SI.POV.NAGP_pg_3.txt\n",
      "SI.POV.NAGP_pg_4.txt\n",
      "SI.POV.NAGP_pg_5.txt\n",
      "SI.POV.NAGP_pg_6.txt\n",
      "SI.POV.NAGP_pg_7.txt\n",
      "SI.POV.NAGP_pg_8.txt\n"
     ]
    }
   ],
   "source": [
    "df_list = []\n",
    "    \n",
    "directory = os.fsencode('data')\n",
    "for file in os.listdir(directory):\n",
    "    file_name = os.fsdecode(file)\n",
    "    if file_name.endswith(\".txt\"):\n",
    "        try\n",
    "        print(file_name)\n",
    "        file_path = os.path.join('data', file_name)"
   ]
  },
  {
   "cell_type": "code",
   "execution_count": 18,
   "metadata": {},
   "outputs": [],
   "source": [
    "def extract_data(folder_name):\n",
    "    \"\"\"\n",
    "    Creates a dataframe from the .txt files in the specified folder. \n",
    "    Files are originally extracted from the World Bank Data API.\n",
    "    \"\"\"\n",
    "    df_list = []\n",
    "    \n",
    "    directory = os.fsencode(folder_name)\n",
    "    for file in os.listdir(directory):\n",
    "        file_name = os.fsdecode(file)\n",
    "        if file_name.endswith(\".txt\"):\n",
    "            try:\n",
    "                file_path = os.path.join(folder_name, file_name)\n",
    "                with open(file_path) as json_file:\n",
    "                    data = json.load(json_file)\n",
    "                    for entry in data[1]:\n",
    "                        df_list.append({\n",
    "                            'country': entry['country']['value'],\n",
    "                            'code': entry['country']['id'],\n",
    "                            'year': entry['date'],\n",
    "                            'value': entry['value']\n",
    "                        })\n",
    "            # Ignore non-JSON files\n",
    "            except:\n",
    "                continue\n",
    "    \n",
    "    df = pd.DataFrame(df_list, columns=['country', 'code',\n",
    "                                        'year', 'value'])\n",
    "    \n",
    "    return df"
   ]
  },
  {
   "cell_type": "markdown",
   "metadata": {},
   "source": [
    "Let's explore the poverty level data."
   ]
  },
  {
   "cell_type": "code",
   "execution_count": 20,
   "metadata": {},
   "outputs": [
    {
     "data": {
      "text/html": [
       "<div>\n",
       "<style scoped>\n",
       "    .dataframe tbody tr th:only-of-type {\n",
       "        vertical-align: middle;\n",
       "    }\n",
       "\n",
       "    .dataframe tbody tr th {\n",
       "        vertical-align: top;\n",
       "    }\n",
       "\n",
       "    .dataframe thead th {\n",
       "        text-align: right;\n",
       "    }\n",
       "</style>\n",
       "<table border=\"1\" class=\"dataframe\">\n",
       "  <thead>\n",
       "    <tr style=\"text-align: right;\">\n",
       "      <th></th>\n",
       "      <th>country</th>\n",
       "      <th>code</th>\n",
       "      <th>year</th>\n",
       "      <th>value</th>\n",
       "    </tr>\n",
       "  </thead>\n",
       "  <tbody>\n",
       "    <tr>\n",
       "      <th>0</th>\n",
       "      <td>Arab World</td>\n",
       "      <td>1A</td>\n",
       "      <td>2017</td>\n",
       "      <td>NaN</td>\n",
       "    </tr>\n",
       "    <tr>\n",
       "      <th>1</th>\n",
       "      <td>Arab World</td>\n",
       "      <td>1A</td>\n",
       "      <td>2016</td>\n",
       "      <td>NaN</td>\n",
       "    </tr>\n",
       "    <tr>\n",
       "      <th>2</th>\n",
       "      <td>Arab World</td>\n",
       "      <td>1A</td>\n",
       "      <td>2015</td>\n",
       "      <td>NaN</td>\n",
       "    </tr>\n",
       "    <tr>\n",
       "      <th>3</th>\n",
       "      <td>Arab World</td>\n",
       "      <td>1A</td>\n",
       "      <td>2014</td>\n",
       "      <td>NaN</td>\n",
       "    </tr>\n",
       "    <tr>\n",
       "      <th>4</th>\n",
       "      <td>Arab World</td>\n",
       "      <td>1A</td>\n",
       "      <td>2013</td>\n",
       "      <td>NaN</td>\n",
       "    </tr>\n",
       "  </tbody>\n",
       "</table>\n",
       "</div>"
      ],
      "text/plain": [
       "      country code  year  value\n",
       "0  Arab World   1A  2017    NaN\n",
       "1  Arab World   1A  2016    NaN\n",
       "2  Arab World   1A  2015    NaN\n",
       "3  Arab World   1A  2014    NaN\n",
       "4  Arab World   1A  2013    NaN"
      ]
     },
     "execution_count": 20,
     "metadata": {},
     "output_type": "execute_result"
    }
   ],
   "source": [
    "df = extract_data('data')\n",
    "df.head()"
   ]
  },
  {
   "cell_type": "code",
   "execution_count": 60,
   "metadata": {},
   "outputs": [
    {
     "data": {
      "text/plain": [
       "(7392, 4)"
      ]
     },
     "execution_count": 60,
     "metadata": {},
     "output_type": "execute_result"
    }
   ],
   "source": [
    "df.shape"
   ]
  },
  {
   "cell_type": "markdown",
   "metadata": {},
   "source": [
    "There are 7,392 rows and 4 columns in the dataset.\n",
    "\n",
    "Let's look at the unique country codes."
   ]
  },
  {
   "cell_type": "code",
   "execution_count": 61,
   "metadata": {
    "scrolled": false
   },
   "outputs": [
    {
     "data": {
      "text/plain": [
       "array(['1A', 'S3', 'B8', 'V2', 'Z4', '4E', 'T4', 'XC', 'Z7', '7E', 'T7',\n",
       "       'EU', 'F1', 'XE', 'XD', 'XF', 'ZT', 'XH', 'XI', 'XG', 'V3', 'ZJ',\n",
       "       'XJ', 'T2', 'XL', 'XO', 'XM', 'XN', 'ZQ', 'XQ', 'T3', 'XP', 'XU',\n",
       "       'XY', 'OE', 'S4', 'S2', 'V4', 'V1', 'S1', '8S', 'T5', 'ZG', 'ZF',\n",
       "       'T6', 'XT', '1W', 'AF', 'AL', 'DZ', 'AS', 'AD', 'AO', 'AG', 'AR',\n",
       "       'AM', 'AW', 'AU', 'AT', 'AZ', 'BS', 'BH', 'BD', 'BB', 'BY', 'BE',\n",
       "       'BZ', 'BJ', 'BM', 'BT', 'BO', 'BA', 'BW', 'BR', 'VG', 'BN', 'BG',\n",
       "       'BF', 'BI', 'CV', 'KH', 'CM', 'CA', 'KY', 'CF', 'TD', 'JG', 'CL',\n",
       "       'CN', 'CO', 'KM', 'CD', 'CG', 'CR', 'CI', 'HR', 'CU', 'CW', 'CY',\n",
       "       'CZ', 'DK', 'DJ', 'DM', 'DO', 'EC', 'EG', 'SV', 'GQ', 'ER', 'EE',\n",
       "       'SZ', 'ET', 'FO', 'FJ', 'FI', 'FR', 'PF', 'GA', 'GM', 'GE', 'DE',\n",
       "       'GH', 'GI', 'GR', 'GL', 'GD', 'GU', 'GT', 'GN', 'GW', 'GY', 'HT',\n",
       "       'HN', 'HK', 'HU', 'IS', 'IN', 'ID', 'IR', 'IQ', 'IE', 'IM', 'IL',\n",
       "       'IT', 'JM', 'JP', 'JO', 'KZ', 'KE', 'KI', 'KP', 'KR', 'XK', 'KW',\n",
       "       'KG', 'LA', 'LV', 'LB', 'LS', 'LR', 'LY', 'LI', 'LT', 'LU', 'MO',\n",
       "       'MK', 'MG', 'MW', 'MY', 'MV', 'ML', 'MT', 'MH', 'MR', 'MU', 'MX',\n",
       "       'FM', 'MD', 'MC', 'MN', 'ME', 'MA', 'MZ', 'MM', 'NA', 'NR', 'NP',\n",
       "       'NL', 'NC', 'NZ', 'NI', 'NE', 'NG', 'MP', 'NO', 'OM', 'PK', 'PW',\n",
       "       'PA', 'PG', 'PY', 'PE', 'PH', 'PL', 'PT', 'PR', 'QA', 'RO', 'RU',\n",
       "       'RW', 'WS', 'SM', 'ST', 'SA', 'SN', 'RS', 'SC', 'SL', 'SG', 'SX',\n",
       "       'SK', 'SI', 'SB', 'SO', 'ZA', 'SS', 'ES', 'LK', 'KN', 'LC', 'MF',\n",
       "       'VC', 'SD', 'SR', 'SE', 'CH', 'SY', 'TJ', 'TZ', 'TH', 'TL', 'TG',\n",
       "       'TO', 'TT', 'TN', 'TR', 'TM', 'TC', 'TV', 'UG', 'UA', 'AE', 'GB',\n",
       "       'US', 'UY', 'UZ', 'VU', 'VE', 'VN', 'VI', 'PS', 'YE', 'ZM', 'ZW'],\n",
       "      dtype=object)"
      ]
     },
     "execution_count": 61,
     "metadata": {},
     "output_type": "execute_result"
    }
   ],
   "source": [
    "df.country_id.unique()"
   ]
  },
  {
   "cell_type": "markdown",
   "metadata": {},
   "source": [
    "These are not currently interpretable, but we have the country names.\n",
    "\n",
    "Let's have a look at how many rows have missing data."
   ]
  },
  {
   "cell_type": "code",
   "execution_count": 21,
   "metadata": {},
   "outputs": [
    {
     "data": {
      "text/plain": [
       "(7089, 4)"
      ]
     },
     "execution_count": 21,
     "metadata": {},
     "output_type": "execute_result"
    }
   ],
   "source": [
    "df[df.isnull().sum(axis=1) > 0].shape"
   ]
  },
  {
   "cell_type": "markdown",
   "metadata": {},
   "source": [
    "Out of 7,392 rows 7,089 have at least one column of missing data - that's a lot! Which countries have no missing data?"
   ]
  },
  {
   "cell_type": "code",
   "execution_count": 22,
   "metadata": {},
   "outputs": [],
   "source": [
    "no_missing = df[df.isnull().sum(axis=1) == 0]"
   ]
  },
  {
   "cell_type": "code",
   "execution_count": 24,
   "metadata": {},
   "outputs": [
    {
     "data": {
      "text/plain": [
       "country\n",
       "Kazakhstan                  15\n",
       "Russian Federation          14\n",
       "Honduras                    14\n",
       "Bolivia                     14\n",
       "Indonesia                   12\n",
       "Uruguay                     10\n",
       "Peru                         9\n",
       "Montenegro                   9\n",
       "Kyrgyz Republic              9\n",
       "Ecuador                      9\n",
       "Moldova                      9\n",
       "Armenia                      7\n",
       "Uganda                       7\n",
       "Cambodia                     7\n",
       "Costa Rica                   6\n",
       "Colombia                     6\n",
       "Philippines                  4\n",
       "Cameroon                     4\n",
       "Lao PDR                      4\n",
       "Mongolia                     4\n",
       "Ethiopia                     4\n",
       "Sri Lanka                    4\n",
       "Guinea                       4\n",
       "Albania                      4\n",
       "Mauritania                   3\n",
       "Malaysia                     3\n",
       "Mexico                       3\n",
       "Lesotho                      3\n",
       "Malawi                       3\n",
       "India                        3\n",
       "                            ..\n",
       "Jordan                       2\n",
       "Nicaragua                    2\n",
       "Nigeria                      2\n",
       "West Bank and Gaza           2\n",
       "Cabo Verde                   1\n",
       "Haiti                        1\n",
       "Angola                       1\n",
       "Tanzania                     1\n",
       "Azerbaijan                   1\n",
       "Guinea-Bissau                1\n",
       "Sudan                        1\n",
       "South Sudan                  1\n",
       "South Africa                 1\n",
       "Solomon Islands              1\n",
       "Kenya                        1\n",
       "Seychelles                   1\n",
       "Liberia                      1\n",
       "Madagascar                   1\n",
       "Papua New Guinea             1\n",
       "Central African Republic     1\n",
       "Pakistan                     1\n",
       "Gambia, The                  1\n",
       "Comoros                      1\n",
       "Niger                        1\n",
       "Gabon                        1\n",
       "Nepal                        1\n",
       "Micronesia, Fed. Sts.        1\n",
       "Lebanon                      1\n",
       "Equatorial Guinea            1\n",
       "Yemen, Rep.                  1\n",
       "Name: country, Length: 86, dtype: int64"
      ]
     },
     "execution_count": 24,
     "metadata": {},
     "output_type": "execute_result"
    }
   ],
   "source": [
    "no_missing.groupby('country')['country'].count().sort_values(ascending=False)"
   ]
  },
  {
   "cell_type": "markdown",
   "metadata": {},
   "source": [
    "What is the total number of years for which a country could have records?"
   ]
  },
  {
   "cell_type": "code",
   "execution_count": 28,
   "metadata": {},
   "outputs": [
    {
     "data": {
      "text/plain": [
       "27"
      ]
     },
     "execution_count": 28,
     "metadata": {},
     "output_type": "execute_result"
    }
   ],
   "source": [
    "df['year'] = df['year'].astype(str)\n",
    "df['year'].astype(int).max() - df['year'].astype(int).min()"
   ]
  },
  {
   "cell_type": "markdown",
   "metadata": {},
   "source": [
    "No country has data for every year. It's also not even the most developed countries that have the least data points. Let's explore if there are countries or years that have more data."
   ]
  },
  {
   "cell_type": "markdown",
   "metadata": {},
   "source": [
    "What years have the most data?"
   ]
  },
  {
   "cell_type": "code",
   "execution_count": 66,
   "metadata": {},
   "outputs": [
    {
     "data": {
      "text/plain": [
       "year\n",
       "2012    29\n",
       "2009    28\n",
       "2010    27\n",
       "2011    26\n",
       "2007    24\n",
       "2008    21\n",
       "2014    20\n",
       "2013    18\n",
       "2002    17\n",
       "2006    16\n",
       "2005    16\n",
       "2004    14\n",
       "2003    11\n",
       "2015    10\n",
       "2001     6\n",
       "2000     6\n",
       "1999     3\n",
       "1996     3\n",
       "1997     2\n",
       "1994     2\n",
       "1998     1\n",
       "1995     1\n",
       "1993     1\n",
       "1992     1\n",
       "Name: year, dtype: int64"
      ]
     },
     "execution_count": 66,
     "metadata": {},
     "output_type": "execute_result"
    }
   ],
   "source": [
    "no_missing.groupby('year')['year'].count().sort_values(ascending=False)"
   ]
  },
  {
   "cell_type": "markdown",
   "metadata": {},
   "source": [
    "Looks like the best years to plot are from 2002 to 2015.\n",
    "\n",
    "Let's do 5 year intervals to see which countries have data for those years."
   ]
  },
  {
   "cell_type": "code",
   "execution_count": 83,
   "metadata": {},
   "outputs": [
    {
     "data": {
      "text/html": [
       "<div>\n",
       "<style scoped>\n",
       "    .dataframe tbody tr th:only-of-type {\n",
       "        vertical-align: middle;\n",
       "    }\n",
       "\n",
       "    .dataframe tbody tr th {\n",
       "        vertical-align: top;\n",
       "    }\n",
       "\n",
       "    .dataframe thead th {\n",
       "        text-align: right;\n",
       "    }\n",
       "</style>\n",
       "<table border=\"1\" class=\"dataframe\">\n",
       "  <thead>\n",
       "    <tr style=\"text-align: right;\">\n",
       "      <th></th>\n",
       "      <th>country_id</th>\n",
       "      <th>country_name</th>\n",
       "      <th>year</th>\n",
       "      <th>value</th>\n",
       "    </tr>\n",
       "  </thead>\n",
       "  <tbody>\n",
       "    <tr>\n",
       "      <th>1326</th>\n",
       "      <td>AF</td>\n",
       "      <td>Afghanistan</td>\n",
       "      <td>2007</td>\n",
       "      <td>7.9</td>\n",
       "    </tr>\n",
       "    <tr>\n",
       "      <th>1349</th>\n",
       "      <td>AL</td>\n",
       "      <td>Albania</td>\n",
       "      <td>2012</td>\n",
       "      <td>2.9</td>\n",
       "    </tr>\n",
       "    <tr>\n",
       "      <th>1359</th>\n",
       "      <td>AL</td>\n",
       "      <td>Albania</td>\n",
       "      <td>2002</td>\n",
       "      <td>5.7</td>\n",
       "    </tr>\n",
       "    <tr>\n",
       "      <th>1545</th>\n",
       "      <td>AM</td>\n",
       "      <td>Armenia</td>\n",
       "      <td>2012</td>\n",
       "      <td>5.6</td>\n",
       "    </tr>\n",
       "    <tr>\n",
       "      <th>1662</th>\n",
       "      <td>AZ</td>\n",
       "      <td>Azerbaijan</td>\n",
       "      <td>2007</td>\n",
       "      <td>2.0</td>\n",
       "    </tr>\n",
       "  </tbody>\n",
       "</table>\n",
       "</div>"
      ],
      "text/plain": [
       "     country_id country_name  year  value\n",
       "1326         AF  Afghanistan  2007    7.9\n",
       "1349         AL      Albania  2012    2.9\n",
       "1359         AL      Albania  2002    5.7\n",
       "1545         AM      Armenia  2012    5.6\n",
       "1662         AZ   Azerbaijan  2007    2.0"
      ]
     },
     "execution_count": 83,
     "metadata": {},
     "output_type": "execute_result"
    }
   ],
   "source": [
    "select_years = ['2002', '2007', '2012']\n",
    "\n",
    "df_select_years = no_missing[no_missing.year.isin(select_years)]\n",
    "df_select_not_null = df_select_years[df_select_years.notnull().all(axis=1)]\n",
    "\n",
    "df_select_not_null.head()"
   ]
  },
  {
   "cell_type": "markdown",
   "metadata": {},
   "source": [
    "Let's find countries that have at least two points. I want to be able to drop the missing values, so let's pivote the dataframe as well."
   ]
  },
  {
   "cell_type": "code",
   "execution_count": 85,
   "metadata": {},
   "outputs": [
    {
     "data": {
      "text/html": [
       "<div>\n",
       "<style scoped>\n",
       "    .dataframe tbody tr th:only-of-type {\n",
       "        vertical-align: middle;\n",
       "    }\n",
       "\n",
       "    .dataframe tbody tr th {\n",
       "        vertical-align: top;\n",
       "    }\n",
       "\n",
       "    .dataframe thead th {\n",
       "        text-align: right;\n",
       "    }\n",
       "</style>\n",
       "<table border=\"1\" class=\"dataframe\">\n",
       "  <thead>\n",
       "    <tr style=\"text-align: right;\">\n",
       "      <th>year</th>\n",
       "      <th>country_name</th>\n",
       "      <th>2002</th>\n",
       "      <th>2007</th>\n",
       "      <th>2012</th>\n",
       "    </tr>\n",
       "  </thead>\n",
       "  <tbody>\n",
       "    <tr>\n",
       "      <th>0</th>\n",
       "      <td>Afghanistan</td>\n",
       "      <td>NaN</td>\n",
       "      <td>7.9</td>\n",
       "      <td>NaN</td>\n",
       "    </tr>\n",
       "    <tr>\n",
       "      <th>1</th>\n",
       "      <td>Albania</td>\n",
       "      <td>5.7</td>\n",
       "      <td>NaN</td>\n",
       "      <td>2.9</td>\n",
       "    </tr>\n",
       "    <tr>\n",
       "      <th>2</th>\n",
       "      <td>Armenia</td>\n",
       "      <td>NaN</td>\n",
       "      <td>NaN</td>\n",
       "      <td>5.6</td>\n",
       "    </tr>\n",
       "    <tr>\n",
       "      <th>3</th>\n",
       "      <td>Azerbaijan</td>\n",
       "      <td>NaN</td>\n",
       "      <td>2.0</td>\n",
       "      <td>NaN</td>\n",
       "    </tr>\n",
       "    <tr>\n",
       "      <th>4</th>\n",
       "      <td>Benin</td>\n",
       "      <td>NaN</td>\n",
       "      <td>9.5</td>\n",
       "      <td>NaN</td>\n",
       "    </tr>\n",
       "  </tbody>\n",
       "</table>\n",
       "</div>"
      ],
      "text/plain": [
       "year country_name  2002  2007  2012\n",
       "0     Afghanistan   NaN   7.9   NaN\n",
       "1         Albania   5.7   NaN   2.9\n",
       "2         Armenia   NaN   NaN   5.6\n",
       "3      Azerbaijan   NaN   2.0   NaN\n",
       "4           Benin   NaN   9.5   NaN"
      ]
     },
     "execution_count": 85,
     "metadata": {},
     "output_type": "execute_result"
    }
   ],
   "source": [
    "df_pivot = df_select_not_null.pivot(index='country_name', columns='year', values='value').reset_index()\n",
    "df_pivot.head()"
   ]
  },
  {
   "cell_type": "code",
   "execution_count": 86,
   "metadata": {},
   "outputs": [
    {
     "data": {
      "text/plain": [
       "47"
      ]
     },
     "execution_count": 86,
     "metadata": {},
     "output_type": "execute_result"
    }
   ],
   "source": [
    "df_pivot.shape[0]"
   ]
  },
  {
   "cell_type": "markdown",
   "metadata": {},
   "source": [
    "There are 47 countries that had no rows with missing data. But it looks like there are a number of them that don't have data for these years. "
   ]
  },
  {
   "cell_type": "code",
   "execution_count": 87,
   "metadata": {},
   "outputs": [],
   "source": [
    "df_pivot.dropna(subset=['2002', '2007', '2012'], thresh=2, inplace=True)"
   ]
  },
  {
   "cell_type": "code",
   "execution_count": 88,
   "metadata": {},
   "outputs": [
    {
     "data": {
      "text/plain": [
       "17"
      ]
     },
     "execution_count": 88,
     "metadata": {},
     "output_type": "execute_result"
    }
   ],
   "source": [
    "df_pivot.shape[0]"
   ]
  },
  {
   "cell_type": "code",
   "execution_count": 89,
   "metadata": {},
   "outputs": [],
   "source": [
    "select_countries = df_pivot.country_name"
   ]
  },
  {
   "cell_type": "markdown",
   "metadata": {},
   "source": [
    "There are only 17 countries that have no missing data. If we collect those we can create plots of that data."
   ]
  },
  {
   "cell_type": "code",
   "execution_count": 90,
   "metadata": {},
   "outputs": [
    {
     "data": {
      "text/html": [
       "<div>\n",
       "<style scoped>\n",
       "    .dataframe tbody tr th:only-of-type {\n",
       "        vertical-align: middle;\n",
       "    }\n",
       "\n",
       "    .dataframe tbody tr th {\n",
       "        vertical-align: top;\n",
       "    }\n",
       "\n",
       "    .dataframe thead th {\n",
       "        text-align: right;\n",
       "    }\n",
       "</style>\n",
       "<table border=\"1\" class=\"dataframe\">\n",
       "  <thead>\n",
       "    <tr style=\"text-align: right;\">\n",
       "      <th></th>\n",
       "      <th>country_id</th>\n",
       "      <th>country_name</th>\n",
       "      <th>year</th>\n",
       "      <th>value</th>\n",
       "    </tr>\n",
       "  </thead>\n",
       "  <tbody>\n",
       "    <tr>\n",
       "      <th>1349</th>\n",
       "      <td>AL</td>\n",
       "      <td>Albania</td>\n",
       "      <td>2012</td>\n",
       "      <td>2.9</td>\n",
       "    </tr>\n",
       "    <tr>\n",
       "      <th>1359</th>\n",
       "      <td>AL</td>\n",
       "      <td>Albania</td>\n",
       "      <td>2002</td>\n",
       "      <td>5.7</td>\n",
       "    </tr>\n",
       "    <tr>\n",
       "      <th>1937</th>\n",
       "      <td>BT</td>\n",
       "      <td>Bhutan</td>\n",
       "      <td>2012</td>\n",
       "      <td>2.6</td>\n",
       "    </tr>\n",
       "    <tr>\n",
       "      <th>1942</th>\n",
       "      <td>BT</td>\n",
       "      <td>Bhutan</td>\n",
       "      <td>2007</td>\n",
       "      <td>6.1</td>\n",
       "    </tr>\n",
       "    <tr>\n",
       "      <th>1965</th>\n",
       "      <td>BO</td>\n",
       "      <td>Bolivia</td>\n",
       "      <td>2012</td>\n",
       "      <td>20.2</td>\n",
       "    </tr>\n",
       "    <tr>\n",
       "      <th>1970</th>\n",
       "      <td>BO</td>\n",
       "      <td>Bolivia</td>\n",
       "      <td>2007</td>\n",
       "      <td>30.5</td>\n",
       "    </tr>\n",
       "    <tr>\n",
       "      <th>1975</th>\n",
       "      <td>BO</td>\n",
       "      <td>Bolivia</td>\n",
       "      <td>2002</td>\n",
       "      <td>34.9</td>\n",
       "    </tr>\n",
       "    <tr>\n",
       "      <th>2917</th>\n",
       "      <td>EC</td>\n",
       "      <td>Ecuador</td>\n",
       "      <td>2012</td>\n",
       "      <td>10.5</td>\n",
       "    </tr>\n",
       "    <tr>\n",
       "      <th>2922</th>\n",
       "      <td>EC</td>\n",
       "      <td>Ecuador</td>\n",
       "      <td>2007</td>\n",
       "      <td>15.3</td>\n",
       "    </tr>\n",
       "    <tr>\n",
       "      <th>3589</th>\n",
       "      <td>GN</td>\n",
       "      <td>Guinea</td>\n",
       "      <td>2012</td>\n",
       "      <td>18.4</td>\n",
       "    </tr>\n",
       "    <tr>\n",
       "      <th>3594</th>\n",
       "      <td>GN</td>\n",
       "      <td>Guinea</td>\n",
       "      <td>2007</td>\n",
       "      <td>17.6</td>\n",
       "    </tr>\n",
       "    <tr>\n",
       "      <th>3599</th>\n",
       "      <td>GN</td>\n",
       "      <td>Guinea</td>\n",
       "      <td>2002</td>\n",
       "      <td>17.2</td>\n",
       "    </tr>\n",
       "    <tr>\n",
       "      <th>3701</th>\n",
       "      <td>HN</td>\n",
       "      <td>Honduras</td>\n",
       "      <td>2012</td>\n",
       "      <td>52.8</td>\n",
       "    </tr>\n",
       "    <tr>\n",
       "      <th>3706</th>\n",
       "      <td>HN</td>\n",
       "      <td>Honduras</td>\n",
       "      <td>2007</td>\n",
       "      <td>48.7</td>\n",
       "    </tr>\n",
       "    <tr>\n",
       "      <th>3711</th>\n",
       "      <td>HN</td>\n",
       "      <td>Honduras</td>\n",
       "      <td>2002</td>\n",
       "      <td>53.9</td>\n",
       "    </tr>\n",
       "    <tr>\n",
       "      <th>3841</th>\n",
       "      <td>ID</td>\n",
       "      <td>Indonesia</td>\n",
       "      <td>2012</td>\n",
       "      <td>1.9</td>\n",
       "    </tr>\n",
       "    <tr>\n",
       "      <th>3846</th>\n",
       "      <td>ID</td>\n",
       "      <td>Indonesia</td>\n",
       "      <td>2007</td>\n",
       "      <td>5.1</td>\n",
       "    </tr>\n",
       "    <tr>\n",
       "      <th>4121</th>\n",
       "      <td>KZ</td>\n",
       "      <td>Kazakhstan</td>\n",
       "      <td>2012</td>\n",
       "      <td>0.5</td>\n",
       "    </tr>\n",
       "    <tr>\n",
       "      <th>4126</th>\n",
       "      <td>KZ</td>\n",
       "      <td>Kazakhstan</td>\n",
       "      <td>2007</td>\n",
       "      <td>2.4</td>\n",
       "    </tr>\n",
       "    <tr>\n",
       "      <th>4131</th>\n",
       "      <td>KZ</td>\n",
       "      <td>Kazakhstan</td>\n",
       "      <td>2002</td>\n",
       "      <td>13.3</td>\n",
       "    </tr>\n",
       "    <tr>\n",
       "      <th>4317</th>\n",
       "      <td>KG</td>\n",
       "      <td>Kyrgyz Republic</td>\n",
       "      <td>2012</td>\n",
       "      <td>7.7</td>\n",
       "    </tr>\n",
       "    <tr>\n",
       "      <th>4322</th>\n",
       "      <td>KG</td>\n",
       "      <td>Kyrgyz Republic</td>\n",
       "      <td>2007</td>\n",
       "      <td>6.6</td>\n",
       "    </tr>\n",
       "    <tr>\n",
       "      <th>4345</th>\n",
       "      <td>LA</td>\n",
       "      <td>Lao PDR</td>\n",
       "      <td>2012</td>\n",
       "      <td>5.5</td>\n",
       "    </tr>\n",
       "    <tr>\n",
       "      <th>4350</th>\n",
       "      <td>LA</td>\n",
       "      <td>Lao PDR</td>\n",
       "      <td>2007</td>\n",
       "      <td>6.5</td>\n",
       "    </tr>\n",
       "    <tr>\n",
       "      <th>4355</th>\n",
       "      <td>LA</td>\n",
       "      <td>Lao PDR</td>\n",
       "      <td>2002</td>\n",
       "      <td>8.0</td>\n",
       "    </tr>\n",
       "    <tr>\n",
       "      <th>4961</th>\n",
       "      <td>MD</td>\n",
       "      <td>Moldova</td>\n",
       "      <td>2012</td>\n",
       "      <td>2.9</td>\n",
       "    </tr>\n",
       "    <tr>\n",
       "      <th>4966</th>\n",
       "      <td>MD</td>\n",
       "      <td>Moldova</td>\n",
       "      <td>2007</td>\n",
       "      <td>5.9</td>\n",
       "    </tr>\n",
       "    <tr>\n",
       "      <th>5045</th>\n",
       "      <td>ME</td>\n",
       "      <td>Montenegro</td>\n",
       "      <td>2012</td>\n",
       "      <td>2.8</td>\n",
       "    </tr>\n",
       "    <tr>\n",
       "      <th>5050</th>\n",
       "      <td>ME</td>\n",
       "      <td>Montenegro</td>\n",
       "      <td>2007</td>\n",
       "      <td>1.4</td>\n",
       "    </tr>\n",
       "    <tr>\n",
       "      <th>5633</th>\n",
       "      <td>PE</td>\n",
       "      <td>Peru</td>\n",
       "      <td>2012</td>\n",
       "      <td>7.1</td>\n",
       "    </tr>\n",
       "    <tr>\n",
       "      <th>5638</th>\n",
       "      <td>PE</td>\n",
       "      <td>Peru</td>\n",
       "      <td>2007</td>\n",
       "      <td>14.2</td>\n",
       "    </tr>\n",
       "    <tr>\n",
       "      <th>5829</th>\n",
       "      <td>RU</td>\n",
       "      <td>Russian Federation</td>\n",
       "      <td>2012</td>\n",
       "      <td>0.9</td>\n",
       "    </tr>\n",
       "    <tr>\n",
       "      <th>5834</th>\n",
       "      <td>RU</td>\n",
       "      <td>Russian Federation</td>\n",
       "      <td>2007</td>\n",
       "      <td>1.3</td>\n",
       "    </tr>\n",
       "    <tr>\n",
       "      <th>5839</th>\n",
       "      <td>RU</td>\n",
       "      <td>Russian Federation</td>\n",
       "      <td>2002</td>\n",
       "      <td>3.7</td>\n",
       "    </tr>\n",
       "    <tr>\n",
       "      <th>6361</th>\n",
       "      <td>LK</td>\n",
       "      <td>Sri Lanka</td>\n",
       "      <td>2012</td>\n",
       "      <td>1.2</td>\n",
       "    </tr>\n",
       "    <tr>\n",
       "      <th>6371</th>\n",
       "      <td>LK</td>\n",
       "      <td>Sri Lanka</td>\n",
       "      <td>2002</td>\n",
       "      <td>5.1</td>\n",
       "    </tr>\n",
       "    <tr>\n",
       "      <th>6977</th>\n",
       "      <td>UG</td>\n",
       "      <td>Uganda</td>\n",
       "      <td>2012</td>\n",
       "      <td>5.2</td>\n",
       "    </tr>\n",
       "    <tr>\n",
       "      <th>6987</th>\n",
       "      <td>UG</td>\n",
       "      <td>Uganda</td>\n",
       "      <td>2002</td>\n",
       "      <td>11.9</td>\n",
       "    </tr>\n",
       "    <tr>\n",
       "      <th>7117</th>\n",
       "      <td>UY</td>\n",
       "      <td>Uruguay</td>\n",
       "      <td>2012</td>\n",
       "      <td>2.2</td>\n",
       "    </tr>\n",
       "    <tr>\n",
       "      <th>7122</th>\n",
       "      <td>UY</td>\n",
       "      <td>Uruguay</td>\n",
       "      <td>2007</td>\n",
       "      <td>6.7</td>\n",
       "    </tr>\n",
       "  </tbody>\n",
       "</table>\n",
       "</div>"
      ],
      "text/plain": [
       "     country_id        country_name  year  value\n",
       "1349         AL             Albania  2012    2.9\n",
       "1359         AL             Albania  2002    5.7\n",
       "1937         BT              Bhutan  2012    2.6\n",
       "1942         BT              Bhutan  2007    6.1\n",
       "1965         BO             Bolivia  2012   20.2\n",
       "1970         BO             Bolivia  2007   30.5\n",
       "1975         BO             Bolivia  2002   34.9\n",
       "2917         EC             Ecuador  2012   10.5\n",
       "2922         EC             Ecuador  2007   15.3\n",
       "3589         GN              Guinea  2012   18.4\n",
       "3594         GN              Guinea  2007   17.6\n",
       "3599         GN              Guinea  2002   17.2\n",
       "3701         HN            Honduras  2012   52.8\n",
       "3706         HN            Honduras  2007   48.7\n",
       "3711         HN            Honduras  2002   53.9\n",
       "3841         ID           Indonesia  2012    1.9\n",
       "3846         ID           Indonesia  2007    5.1\n",
       "4121         KZ          Kazakhstan  2012    0.5\n",
       "4126         KZ          Kazakhstan  2007    2.4\n",
       "4131         KZ          Kazakhstan  2002   13.3\n",
       "4317         KG     Kyrgyz Republic  2012    7.7\n",
       "4322         KG     Kyrgyz Republic  2007    6.6\n",
       "4345         LA             Lao PDR  2012    5.5\n",
       "4350         LA             Lao PDR  2007    6.5\n",
       "4355         LA             Lao PDR  2002    8.0\n",
       "4961         MD             Moldova  2012    2.9\n",
       "4966         MD             Moldova  2007    5.9\n",
       "5045         ME          Montenegro  2012    2.8\n",
       "5050         ME          Montenegro  2007    1.4\n",
       "5633         PE                Peru  2012    7.1\n",
       "5638         PE                Peru  2007   14.2\n",
       "5829         RU  Russian Federation  2012    0.9\n",
       "5834         RU  Russian Federation  2007    1.3\n",
       "5839         RU  Russian Federation  2002    3.7\n",
       "6361         LK           Sri Lanka  2012    1.2\n",
       "6371         LK           Sri Lanka  2002    5.1\n",
       "6977         UG              Uganda  2012    5.2\n",
       "6987         UG              Uganda  2002   11.9\n",
       "7117         UY             Uruguay  2012    2.2\n",
       "7122         UY             Uruguay  2007    6.7"
      ]
     },
     "execution_count": 90,
     "metadata": {},
     "output_type": "execute_result"
    }
   ],
   "source": [
    "df_final = df_select_not_null[df_select_not_null.country_name.isin(select_countries)]\n",
    "df_final"
   ]
  },
  {
   "cell_type": "code",
   "execution_count": 91,
   "metadata": {},
   "outputs": [
    {
     "data": {
      "image/png": "[encoded data removed]",
      "text/plain": [
       "<Figure size 1080x864 with 1 Axes>"
      ]
     },
     "metadata": {
      "needs_background": "light"
     },
     "output_type": "display_data"
    }
   ],
   "source": [
    "plt.figure(figsize=(15, 12))\n",
    "sns.pointplot(x='year', y='value', hue='country_name', data=df_final);"
   ]
  },
  {
   "cell_type": "markdown",
   "metadata": {},
   "source": [
    "The countries that have data for this index seem to be poorer countries. \n",
    "\n",
    "Is there any indicator that has a wider spread of countries that have collected data?\n",
    "\n",
    "What about:\n",
    "- Income of highest 10%: SI.DST.10TH.10\n",
    "- Income of lowest 10%: SI.DST.FRST.10"
   ]
  },
  {
   "cell_type": "code",
   "execution_count": 93,
   "metadata": {},
   "outputs": [],
   "source": [
    "params = {'format': 'json', 'per_page': '1000', 'date': '1990:2017'}\n",
    "\n",
    "for data_code, file_name in zip(['SI.DST.10TH.10', 'SI.DST.FRST.10'], ['highest_10', 'lowest_10']):\n",
    "    full_query(data_code, params, 'data/' + file_name)"
   ]
  },
  {
   "cell_type": "code",
   "execution_count": 30,
   "metadata": {},
   "outputs": [
    {
     "data": {
      "text/html": [
       "<div>\n",
       "<style scoped>\n",
       "    .dataframe tbody tr th:only-of-type {\n",
       "        vertical-align: middle;\n",
       "    }\n",
       "\n",
       "    .dataframe tbody tr th {\n",
       "        vertical-align: top;\n",
       "    }\n",
       "\n",
       "    .dataframe thead th {\n",
       "        text-align: right;\n",
       "    }\n",
       "</style>\n",
       "<table border=\"1\" class=\"dataframe\">\n",
       "  <thead>\n",
       "    <tr style=\"text-align: right;\">\n",
       "      <th></th>\n",
       "      <th>country</th>\n",
       "      <th>code</th>\n",
       "      <th>year</th>\n",
       "      <th>value</th>\n",
       "    </tr>\n",
       "  </thead>\n",
       "  <tbody>\n",
       "    <tr>\n",
       "      <th>0</th>\n",
       "      <td>Arab World</td>\n",
       "      <td>1A</td>\n",
       "      <td>2018</td>\n",
       "      <td>NaN</td>\n",
       "    </tr>\n",
       "    <tr>\n",
       "      <th>1</th>\n",
       "      <td>Arab World</td>\n",
       "      <td>1A</td>\n",
       "      <td>2017</td>\n",
       "      <td>NaN</td>\n",
       "    </tr>\n",
       "    <tr>\n",
       "      <th>2</th>\n",
       "      <td>Arab World</td>\n",
       "      <td>1A</td>\n",
       "      <td>2016</td>\n",
       "      <td>NaN</td>\n",
       "    </tr>\n",
       "    <tr>\n",
       "      <th>3</th>\n",
       "      <td>Arab World</td>\n",
       "      <td>1A</td>\n",
       "      <td>2015</td>\n",
       "      <td>NaN</td>\n",
       "    </tr>\n",
       "    <tr>\n",
       "      <th>4</th>\n",
       "      <td>Arab World</td>\n",
       "      <td>1A</td>\n",
       "      <td>2014</td>\n",
       "      <td>NaN</td>\n",
       "    </tr>\n",
       "  </tbody>\n",
       "</table>\n",
       "</div>"
      ],
      "text/plain": [
       "      country code  year  value\n",
       "0  Arab World   1A  2018    NaN\n",
       "1  Arab World   1A  2017    NaN\n",
       "2  Arab World   1A  2016    NaN\n",
       "3  Arab World   1A  2015    NaN\n",
       "4  Arab World   1A  2014    NaN"
      ]
     },
     "execution_count": 30,
     "metadata": {},
     "output_type": "execute_result"
    }
   ],
   "source": [
    "df_highest = extract_data('data/highest_10')\n",
    "df_highest.head()"
   ]
  },
  {
   "cell_type": "code",
   "execution_count": 31,
   "metadata": {},
   "outputs": [
    {
     "data": {
      "text/html": [
       "<div>\n",
       "<style scoped>\n",
       "    .dataframe tbody tr th:only-of-type {\n",
       "        vertical-align: middle;\n",
       "    }\n",
       "\n",
       "    .dataframe tbody tr th {\n",
       "        vertical-align: top;\n",
       "    }\n",
       "\n",
       "    .dataframe thead th {\n",
       "        text-align: right;\n",
       "    }\n",
       "</style>\n",
       "<table border=\"1\" class=\"dataframe\">\n",
       "  <thead>\n",
       "    <tr style=\"text-align: right;\">\n",
       "      <th></th>\n",
       "      <th>country</th>\n",
       "      <th>code</th>\n",
       "      <th>year</th>\n",
       "      <th>value</th>\n",
       "    </tr>\n",
       "  </thead>\n",
       "  <tbody>\n",
       "    <tr>\n",
       "      <th>0</th>\n",
       "      <td>Arab World</td>\n",
       "      <td>1A</td>\n",
       "      <td>2018</td>\n",
       "      <td>NaN</td>\n",
       "    </tr>\n",
       "    <tr>\n",
       "      <th>1</th>\n",
       "      <td>Arab World</td>\n",
       "      <td>1A</td>\n",
       "      <td>2017</td>\n",
       "      <td>NaN</td>\n",
       "    </tr>\n",
       "    <tr>\n",
       "      <th>2</th>\n",
       "      <td>Arab World</td>\n",
       "      <td>1A</td>\n",
       "      <td>2016</td>\n",
       "      <td>NaN</td>\n",
       "    </tr>\n",
       "    <tr>\n",
       "      <th>3</th>\n",
       "      <td>Arab World</td>\n",
       "      <td>1A</td>\n",
       "      <td>2015</td>\n",
       "      <td>NaN</td>\n",
       "    </tr>\n",
       "    <tr>\n",
       "      <th>4</th>\n",
       "      <td>Arab World</td>\n",
       "      <td>1A</td>\n",
       "      <td>2014</td>\n",
       "      <td>NaN</td>\n",
       "    </tr>\n",
       "  </tbody>\n",
       "</table>\n",
       "</div>"
      ],
      "text/plain": [
       "      country code  year  value\n",
       "0  Arab World   1A  2018    NaN\n",
       "1  Arab World   1A  2017    NaN\n",
       "2  Arab World   1A  2016    NaN\n",
       "3  Arab World   1A  2015    NaN\n",
       "4  Arab World   1A  2014    NaN"
      ]
     },
     "execution_count": 31,
     "metadata": {},
     "output_type": "execute_result"
    }
   ],
   "source": [
    "df_lowest = extract_data('data/lowest_10')\n",
    "df_lowest.head()"
   ]
  },
  {
   "cell_type": "markdown",
   "metadata": {},
   "source": [
    "Let's drop countries with missing values."
   ]
  },
  {
   "cell_type": "code",
   "execution_count": 32,
   "metadata": {},
   "outputs": [
    {
     "data": {
      "text/plain": [
       "(1406, 4)"
      ]
     },
     "execution_count": 32,
     "metadata": {},
     "output_type": "execute_result"
    }
   ],
   "source": [
    "df_h_notna = df_highest.dropna()\n",
    "df_h_notna.shape"
   ]
  },
  {
   "cell_type": "code",
   "execution_count": 33,
   "metadata": {},
   "outputs": [
    {
     "data": {
      "text/plain": [
       "(1405, 4)"
      ]
     },
     "execution_count": 33,
     "metadata": {},
     "output_type": "execute_result"
    }
   ],
   "source": [
    "df_l_notna = df_lowest.dropna()\n",
    "df_l_notna.shape"
   ]
  },
  {
   "cell_type": "markdown",
   "metadata": {},
   "source": [
    "The number of rows in each dataset match. This suggests that the countries and years that have data for these indicators are the same."
   ]
  },
  {
   "cell_type": "code",
   "execution_count": 103,
   "metadata": {},
   "outputs": [
    {
     "data": {
      "text/plain": [
       "country_id      1304\n",
       "country_name    1304\n",
       "year            1304\n",
       "dtype: int64"
      ]
     },
     "execution_count": 103,
     "metadata": {},
     "output_type": "execute_result"
    }
   ],
   "source": [
    "(df_l_notna.drop('value', axis=1) == df_h_notna.drop('value', axis=1)).sum()"
   ]
  },
  {
   "cell_type": "markdown",
   "metadata": {},
   "source": [
    "Yes, this is correct, all cells in all rows for both df, apart from value are equal.\n",
    "\n",
    "What years have the most data?"
   ]
  },
  {
   "cell_type": "code",
   "execution_count": 104,
   "metadata": {},
   "outputs": [
    {
     "data": {
      "text/plain": [
       "year\n",
       "2010    82\n",
       "2012    76\n",
       "2011    75\n",
       "2009    74\n",
       "2005    72\n",
       "2013    72\n",
       "2006    72\n",
       "2014    71\n",
       "2008    71\n",
       "2007    71\n",
       "2004    68\n",
       "2015    67\n",
       "2003    53\n",
       "2002    44\n",
       "1998    36\n",
       "2001    34\n",
       "2000    33\n",
       "2016    29\n",
       "1996    29\n",
       "1999    27\n",
       "1992    26\n",
       "1995    24\n",
       "1997    22\n",
       "1994    22\n",
       "1993    22\n",
       "1990    15\n",
       "1991    14\n",
       "2017     3\n",
       "Name: year, dtype: int64"
      ]
     },
     "execution_count": 104,
     "metadata": {},
     "output_type": "execute_result"
    }
   ],
   "source": [
    "df_l_notna.groupby('year')['year'].count().sort_values(ascending=False)"
   ]
  },
  {
   "cell_type": "markdown",
   "metadata": {},
   "source": [
    "Looks like we have decent data from 2005 to 2015."
   ]
  },
  {
   "cell_type": "markdown",
   "metadata": {},
   "source": [
    "Let's do a quick plot of the distribution of the two dataframes."
   ]
  },
  {
   "cell_type": "code",
   "execution_count": 105,
   "metadata": {},
   "outputs": [
    {
     "data": {
      "image/png": "[encoded data removed]",
      "text/plain": [
       "<Figure size 432x288 with 1 Axes>"
      ]
     },
     "metadata": {
      "needs_background": "light"
     },
     "output_type": "display_data"
    }
   ],
   "source": [
    "df_l_notna.hist();"
   ]
  },
  {
   "cell_type": "code",
   "execution_count": 106,
   "metadata": {},
   "outputs": [
    {
     "data": {
      "image/png": "[encoded data removed]",
      "text/plain": [
       "<Figure size 432x288 with 1 Axes>"
      ]
     },
     "metadata": {
      "needs_background": "light"
     },
     "output_type": "display_data"
    }
   ],
   "source": [
    "df_h_notna.hist();"
   ]
  },
  {
   "cell_type": "markdown",
   "metadata": {},
   "source": [
    "The unit here is income share, the income share of the lowest 10% ranges from just over 0% to around 6%, while the income share for the highest 10% typically ranges from 20% to 60%. \n",
    "\n",
    "We can join these datasets to combine the data for income share and then melt for plotting."
   ]
  },
  {
   "cell_type": "code",
   "execution_count": 36,
   "metadata": {},
   "outputs": [
    {
     "data": {
      "text/html": [
       "<div>\n",
       "<style scoped>\n",
       "    .dataframe tbody tr th:only-of-type {\n",
       "        vertical-align: middle;\n",
       "    }\n",
       "\n",
       "    .dataframe tbody tr th {\n",
       "        vertical-align: top;\n",
       "    }\n",
       "\n",
       "    .dataframe thead th {\n",
       "        text-align: right;\n",
       "    }\n",
       "</style>\n",
       "<table border=\"1\" class=\"dataframe\">\n",
       "  <thead>\n",
       "    <tr style=\"text-align: right;\">\n",
       "      <th></th>\n",
       "      <th>country</th>\n",
       "      <th>code_x</th>\n",
       "      <th>year</th>\n",
       "      <th>value_x</th>\n",
       "      <th>code_y</th>\n",
       "      <th>value_y</th>\n",
       "    </tr>\n",
       "  </thead>\n",
       "  <tbody>\n",
       "    <tr>\n",
       "      <th>0</th>\n",
       "      <td>Albania</td>\n",
       "      <td>AL</td>\n",
       "      <td>2012</td>\n",
       "      <td>3.7</td>\n",
       "      <td>AL</td>\n",
       "      <td>22.9</td>\n",
       "    </tr>\n",
       "    <tr>\n",
       "      <th>1</th>\n",
       "      <td>Albania</td>\n",
       "      <td>AL</td>\n",
       "      <td>2008</td>\n",
       "      <td>3.7</td>\n",
       "      <td>AL</td>\n",
       "      <td>24.5</td>\n",
       "    </tr>\n",
       "    <tr>\n",
       "      <th>2</th>\n",
       "      <td>Albania</td>\n",
       "      <td>AL</td>\n",
       "      <td>2005</td>\n",
       "      <td>3.5</td>\n",
       "      <td>AL</td>\n",
       "      <td>24.3</td>\n",
       "    </tr>\n",
       "    <tr>\n",
       "      <th>3</th>\n",
       "      <td>Albania</td>\n",
       "      <td>AL</td>\n",
       "      <td>2002</td>\n",
       "      <td>3.5</td>\n",
       "      <td>AL</td>\n",
       "      <td>25.4</td>\n",
       "    </tr>\n",
       "    <tr>\n",
       "      <th>4</th>\n",
       "      <td>Albania</td>\n",
       "      <td>AL</td>\n",
       "      <td>1996</td>\n",
       "      <td>3.9</td>\n",
       "      <td>AL</td>\n",
       "      <td>21.2</td>\n",
       "    </tr>\n",
       "  </tbody>\n",
       "</table>\n",
       "</div>"
      ],
      "text/plain": [
       "   country code_x  year  value_x code_y  value_y\n",
       "0  Albania     AL  2012      3.7     AL     22.9\n",
       "1  Albania     AL  2008      3.7     AL     24.5\n",
       "2  Albania     AL  2005      3.5     AL     24.3\n",
       "3  Albania     AL  2002      3.5     AL     25.4\n",
       "4  Albania     AL  1996      3.9     AL     21.2"
      ]
     },
     "execution_count": 36,
     "metadata": {},
     "output_type": "execute_result"
    }
   ],
   "source": [
    "df_income_full.head()"
   ]
  },
  {
   "cell_type": "code",
   "execution_count": 49,
   "metadata": {},
   "outputs": [
    {
     "data": {
      "text/html": [
       "<div>\n",
       "<style scoped>\n",
       "    .dataframe tbody tr th:only-of-type {\n",
       "        vertical-align: middle;\n",
       "    }\n",
       "\n",
       "    .dataframe tbody tr th {\n",
       "        vertical-align: top;\n",
       "    }\n",
       "\n",
       "    .dataframe thead th {\n",
       "        text-align: right;\n",
       "    }\n",
       "</style>\n",
       "<table border=\"1\" class=\"dataframe\">\n",
       "  <thead>\n",
       "    <tr style=\"text-align: right;\">\n",
       "      <th></th>\n",
       "      <th>country</th>\n",
       "      <th>code</th>\n",
       "      <th>year</th>\n",
       "      <th>lowest_10</th>\n",
       "      <th>highest_10</th>\n",
       "    </tr>\n",
       "  </thead>\n",
       "  <tbody>\n",
       "    <tr>\n",
       "      <th>0</th>\n",
       "      <td>Albania</td>\n",
       "      <td>AL</td>\n",
       "      <td>2012</td>\n",
       "      <td>3.7</td>\n",
       "      <td>22.9</td>\n",
       "    </tr>\n",
       "    <tr>\n",
       "      <th>1</th>\n",
       "      <td>Albania</td>\n",
       "      <td>AL</td>\n",
       "      <td>2008</td>\n",
       "      <td>3.7</td>\n",
       "      <td>24.5</td>\n",
       "    </tr>\n",
       "    <tr>\n",
       "      <th>2</th>\n",
       "      <td>Albania</td>\n",
       "      <td>AL</td>\n",
       "      <td>2005</td>\n",
       "      <td>3.5</td>\n",
       "      <td>24.3</td>\n",
       "    </tr>\n",
       "    <tr>\n",
       "      <th>3</th>\n",
       "      <td>Albania</td>\n",
       "      <td>AL</td>\n",
       "      <td>2002</td>\n",
       "      <td>3.5</td>\n",
       "      <td>25.4</td>\n",
       "    </tr>\n",
       "    <tr>\n",
       "      <th>4</th>\n",
       "      <td>Albania</td>\n",
       "      <td>AL</td>\n",
       "      <td>1996</td>\n",
       "      <td>3.9</td>\n",
       "      <td>21.2</td>\n",
       "    </tr>\n",
       "  </tbody>\n",
       "</table>\n",
       "</div>"
      ],
      "text/plain": [
       "   country code  year  lowest_10  highest_10\n",
       "0  Albania   AL  2012        3.7        22.9\n",
       "1  Albania   AL  2008        3.7        24.5\n",
       "2  Albania   AL  2005        3.5        24.3\n",
       "3  Albania   AL  2002        3.5        25.4\n",
       "4  Albania   AL  1996        3.9        21.2"
      ]
     },
     "execution_count": 49,
     "metadata": {},
     "output_type": "execute_result"
    }
   ],
   "source": [
    "df_income_full = df_l_notna.merge(df_h_notna, on=['country', 'year'])\n",
    "df_income_full.drop(['code_y'], axis=1, inplace=True)\n",
    "df_income_full.rename(columns={'value_x': 'lowest_10', 'value_y': 'highest_10', 'code_x': 'code'}, inplace=True)\n",
    "df_income_full.head()"
   ]
  },
  {
   "cell_type": "markdown",
   "metadata": {},
   "source": [
    "Let's also create a column for the difference between the two."
   ]
  },
  {
   "cell_type": "code",
   "execution_count": 43,
   "metadata": {},
   "outputs": [],
   "source": [
    "df_income_full['difference'] = df_income_full.highest_10 - df_income_full.lowest_10"
   ]
  },
  {
   "cell_type": "markdown",
   "metadata": {},
   "source": [
    "Let's filter for the years we are looking for and select countries that have data for at least 3 years. "
   ]
  },
  {
   "cell_type": "code",
   "execution_count": 40,
   "metadata": {},
   "outputs": [],
   "source": [
    "select_years = [str(x) for x in range(2005, 2019)]\n",
    "df_income_years = df_income_full[df_income_full.year.isin(select_years)]"
   ]
  },
  {
   "cell_type": "code",
   "execution_count": 96,
   "metadata": {},
   "outputs": [
    {
     "name": "stdout",
     "output_type": "stream",
     "text": [
      "['Albania', 'Algeria', 'Angola', 'Argentina', 'Armenia', 'Australia', 'Austria', 'Azerbaijan', 'Bangladesh', 'Belarus', 'Belgium', 'Benin', 'Bhutan', 'Bolivia', 'Bosnia and Herzegovina', 'Botswana', 'Brazil', 'Bulgaria', 'Burkina Faso', 'Burundi', 'Cabo Verde', 'Cameroon', 'Canada', 'Central African Republic', 'Chad', 'Chile', 'China', 'Colombia', 'Comoros', 'Congo, Dem. Rep.', 'Congo, Rep.', 'Costa Rica', \"Cote d'Ivoire\", 'Croatia', 'Cyprus', 'Czech Republic', 'Denmark', 'Djibouti', 'Dominican Republic', 'Ecuador', 'Egypt, Arab Rep.', 'El Salvador', 'Estonia', 'Eswatini', 'Ethiopia', 'Fiji', 'Finland', 'France', 'Gabon', 'Gambia, The', 'Georgia', 'Germany', 'Ghana', 'Greece', 'Guatemala', 'Guinea', 'Guinea-Bissau', 'Haiti', 'Honduras', 'Hungary', 'Iceland', 'India', 'Indonesia', 'Iran, Islamic Rep.', 'Iraq', 'Ireland', 'Israel', 'Italy', 'Japan', 'Jordan', 'Kazakhstan', 'Kenya', 'Kiribati', 'Korea, Rep.', 'Kosovo', 'Kyrgyz Republic', 'Lao PDR', 'Latvia', 'Lebanon', 'Lesotho', 'Liberia', 'Lithuania', 'Luxembourg', 'Madagascar', 'Malawi', 'Malaysia', 'Maldives', 'Mali', 'Malta', 'Mauritania', 'Mauritius', 'Mexico', 'Micronesia, Fed. Sts.', 'Moldova', 'Mongolia', 'Montenegro', 'Morocco', 'Mozambique', 'Myanmar', 'Namibia', 'Nepal', 'Netherlands', 'Nicaragua', 'Niger', 'Nigeria', 'North Macedonia', 'Norway', 'Pakistan', 'Panama', 'Papua New Guinea', 'Paraguay', 'Peru', 'Philippines', 'Poland', 'Portugal', 'Romania', 'Russian Federation', 'Rwanda', 'Samoa', 'Sao Tome and Principe', 'Senegal', 'Serbia', 'Seychelles', 'Sierra Leone', 'Slovak Republic', 'Slovenia', 'Solomon Islands', 'South Africa', 'South Sudan', 'Spain', 'Sri Lanka', 'St. Lucia', 'Sudan', 'Sweden', 'Switzerland', 'Tajikistan', 'Tanzania', 'Thailand', 'Timor-Leste', 'Togo', 'Tonga', 'Tunisia', 'Turkey', 'Tuvalu', 'Uganda', 'Ukraine', 'United Kingdom', 'United States', 'Uruguay', 'Vanuatu', 'Venezuela, RB', 'Vietnam', 'West Bank and Gaza', 'Yemen, Rep.', 'Zambia', 'Zimbabwe']\n"
     ]
    }
   ],
   "source": [
    "# Find countries with income for at least three years\n",
    "df_income_years['missing'] = df_income_years['lowest_10'].isna()\n",
    "country_missing = df_income_years.groupby('country')['missing'].sum()\n",
    "select_countries = country_missing[country_missing <= 12].index.tolist()\n",
    "print(select_countries)"
   ]
  },
  {
   "cell_type": "markdown",
   "metadata": {},
   "source": [
    "Interesting, the United States, Canada, and Australia are not in this list. Let's see what data they have."
   ]
  },
  {
   "cell_type": "code",
   "execution_count": 116,
   "metadata": {},
   "outputs": [
    {
     "data": {
      "text/html": [
       "<div>\n",
       "<style scoped>\n",
       "    .dataframe tbody tr th:only-of-type {\n",
       "        vertical-align: middle;\n",
       "    }\n",
       "\n",
       "    .dataframe tbody tr th {\n",
       "        vertical-align: top;\n",
       "    }\n",
       "\n",
       "    .dataframe thead th {\n",
       "        text-align: right;\n",
       "    }\n",
       "</style>\n",
       "<table border=\"1\" class=\"dataframe\">\n",
       "  <thead>\n",
       "    <tr style=\"text-align: right;\">\n",
       "      <th></th>\n",
       "      <th>country</th>\n",
       "      <th>year</th>\n",
       "      <th>lowest_10</th>\n",
       "      <th>highest_10</th>\n",
       "      <th>difference</th>\n",
       "    </tr>\n",
       "  </thead>\n",
       "  <tbody>\n",
       "    <tr>\n",
       "      <th>51</th>\n",
       "      <td>Australia</td>\n",
       "      <td>2010</td>\n",
       "      <td>2.8</td>\n",
       "      <td>26.4</td>\n",
       "      <td>23.6</td>\n",
       "    </tr>\n",
       "    <tr>\n",
       "      <th>52</th>\n",
       "      <td>Australia</td>\n",
       "      <td>2008</td>\n",
       "      <td>2.8</td>\n",
       "      <td>27.4</td>\n",
       "      <td>24.6</td>\n",
       "    </tr>\n",
       "    <tr>\n",
       "      <th>53</th>\n",
       "      <td>Australia</td>\n",
       "      <td>2003</td>\n",
       "      <td>2.7</td>\n",
       "      <td>25.1</td>\n",
       "      <td>22.4</td>\n",
       "    </tr>\n",
       "    <tr>\n",
       "      <th>54</th>\n",
       "      <td>Australia</td>\n",
       "      <td>2001</td>\n",
       "      <td>2.7</td>\n",
       "      <td>25.1</td>\n",
       "      <td>22.4</td>\n",
       "    </tr>\n",
       "    <tr>\n",
       "      <th>55</th>\n",
       "      <td>Australia</td>\n",
       "      <td>1995</td>\n",
       "      <td>2.9</td>\n",
       "      <td>24.6</td>\n",
       "      <td>21.7</td>\n",
       "    </tr>\n",
       "  </tbody>\n",
       "</table>\n",
       "</div>"
      ],
      "text/plain": [
       "      country  year  lowest_10  highest_10  difference\n",
       "51  Australia  2010        2.8        26.4        23.6\n",
       "52  Australia  2008        2.8        27.4        24.6\n",
       "53  Australia  2003        2.7        25.1        22.4\n",
       "54  Australia  2001        2.7        25.1        22.4\n",
       "55  Australia  1995        2.9        24.6        21.7"
      ]
     },
     "execution_count": 116,
     "metadata": {},
     "output_type": "execute_result"
    }
   ],
   "source": [
    "df_income_full.query('country == \"Australia\"')"
   ]
  },
  {
   "cell_type": "code",
   "execution_count": 117,
   "metadata": {},
   "outputs": [
    {
     "data": {
      "text/html": [
       "<div>\n",
       "<style scoped>\n",
       "    .dataframe tbody tr th:only-of-type {\n",
       "        vertical-align: middle;\n",
       "    }\n",
       "\n",
       "    .dataframe tbody tr th {\n",
       "        vertical-align: top;\n",
       "    }\n",
       "\n",
       "    .dataframe thead th {\n",
       "        text-align: right;\n",
       "    }\n",
       "</style>\n",
       "<table border=\"1\" class=\"dataframe\">\n",
       "  <thead>\n",
       "    <tr style=\"text-align: right;\">\n",
       "      <th></th>\n",
       "      <th>country</th>\n",
       "      <th>year</th>\n",
       "      <th>lowest_10</th>\n",
       "      <th>highest_10</th>\n",
       "      <th>difference</th>\n",
       "    </tr>\n",
       "  </thead>\n",
       "  <tbody>\n",
       "    <tr>\n",
       "      <th>199</th>\n",
       "      <td>Canada</td>\n",
       "      <td>2013</td>\n",
       "      <td>2.4</td>\n",
       "      <td>25.3</td>\n",
       "      <td>22.9</td>\n",
       "    </tr>\n",
       "    <tr>\n",
       "      <th>200</th>\n",
       "      <td>Canada</td>\n",
       "      <td>2010</td>\n",
       "      <td>2.7</td>\n",
       "      <td>25.7</td>\n",
       "      <td>23.0</td>\n",
       "    </tr>\n",
       "    <tr>\n",
       "      <th>201</th>\n",
       "      <td>Canada</td>\n",
       "      <td>2007</td>\n",
       "      <td>2.7</td>\n",
       "      <td>26.0</td>\n",
       "      <td>23.3</td>\n",
       "    </tr>\n",
       "    <tr>\n",
       "      <th>202</th>\n",
       "      <td>Canada</td>\n",
       "      <td>2004</td>\n",
       "      <td>2.6</td>\n",
       "      <td>25.6</td>\n",
       "      <td>23.0</td>\n",
       "    </tr>\n",
       "    <tr>\n",
       "      <th>203</th>\n",
       "      <td>Canada</td>\n",
       "      <td>2000</td>\n",
       "      <td>2.7</td>\n",
       "      <td>25.5</td>\n",
       "      <td>22.8</td>\n",
       "    </tr>\n",
       "    <tr>\n",
       "      <th>204</th>\n",
       "      <td>Canada</td>\n",
       "      <td>1998</td>\n",
       "      <td>2.7</td>\n",
       "      <td>25.3</td>\n",
       "      <td>22.6</td>\n",
       "    </tr>\n",
       "    <tr>\n",
       "      <th>205</th>\n",
       "      <td>Canada</td>\n",
       "      <td>1997</td>\n",
       "      <td>2.8</td>\n",
       "      <td>23.8</td>\n",
       "      <td>21.0</td>\n",
       "    </tr>\n",
       "    <tr>\n",
       "      <th>206</th>\n",
       "      <td>Canada</td>\n",
       "      <td>1994</td>\n",
       "      <td>2.9</td>\n",
       "      <td>23.6</td>\n",
       "      <td>20.7</td>\n",
       "    </tr>\n",
       "    <tr>\n",
       "      <th>207</th>\n",
       "      <td>Canada</td>\n",
       "      <td>1991</td>\n",
       "      <td>2.9</td>\n",
       "      <td>23.6</td>\n",
       "      <td>20.7</td>\n",
       "    </tr>\n",
       "  </tbody>\n",
       "</table>\n",
       "</div>"
      ],
      "text/plain": [
       "    country  year  lowest_10  highest_10  difference\n",
       "199  Canada  2013        2.4        25.3        22.9\n",
       "200  Canada  2010        2.7        25.7        23.0\n",
       "201  Canada  2007        2.7        26.0        23.3\n",
       "202  Canada  2004        2.6        25.6        23.0\n",
       "203  Canada  2000        2.7        25.5        22.8\n",
       "204  Canada  1998        2.7        25.3        22.6\n",
       "205  Canada  1997        2.8        23.8        21.0\n",
       "206  Canada  1994        2.9        23.6        20.7\n",
       "207  Canada  1991        2.9        23.6        20.7"
      ]
     },
     "execution_count": 117,
     "metadata": {},
     "output_type": "execute_result"
    }
   ],
   "source": [
    "df_income_full.query('country == \"Canada\"')"
   ]
  },
  {
   "cell_type": "code",
   "execution_count": 119,
   "metadata": {},
   "outputs": [
    {
     "data": {
      "text/html": [
       "<div>\n",
       "<style scoped>\n",
       "    .dataframe tbody tr th:only-of-type {\n",
       "        vertical-align: middle;\n",
       "    }\n",
       "\n",
       "    .dataframe tbody tr th {\n",
       "        vertical-align: top;\n",
       "    }\n",
       "\n",
       "    .dataframe thead th {\n",
       "        text-align: right;\n",
       "    }\n",
       "</style>\n",
       "<table border=\"1\" class=\"dataframe\">\n",
       "  <thead>\n",
       "    <tr style=\"text-align: right;\">\n",
       "      <th></th>\n",
       "      <th>country</th>\n",
       "      <th>year</th>\n",
       "      <th>lowest_10</th>\n",
       "      <th>highest_10</th>\n",
       "      <th>difference</th>\n",
       "    </tr>\n",
       "  </thead>\n",
       "  <tbody>\n",
       "    <tr>\n",
       "      <th>1238</th>\n",
       "      <td>United States</td>\n",
       "      <td>2016</td>\n",
       "      <td>1.7</td>\n",
       "      <td>30.6</td>\n",
       "      <td>28.9</td>\n",
       "    </tr>\n",
       "    <tr>\n",
       "      <th>1239</th>\n",
       "      <td>United States</td>\n",
       "      <td>2013</td>\n",
       "      <td>1.7</td>\n",
       "      <td>30.1</td>\n",
       "      <td>28.4</td>\n",
       "    </tr>\n",
       "    <tr>\n",
       "      <th>1240</th>\n",
       "      <td>United States</td>\n",
       "      <td>2010</td>\n",
       "      <td>1.7</td>\n",
       "      <td>29.4</td>\n",
       "      <td>27.7</td>\n",
       "    </tr>\n",
       "    <tr>\n",
       "      <th>1241</th>\n",
       "      <td>United States</td>\n",
       "      <td>2007</td>\n",
       "      <td>1.7</td>\n",
       "      <td>30.5</td>\n",
       "      <td>28.8</td>\n",
       "    </tr>\n",
       "    <tr>\n",
       "      <th>1242</th>\n",
       "      <td>United States</td>\n",
       "      <td>2004</td>\n",
       "      <td>1.7</td>\n",
       "      <td>30.2</td>\n",
       "      <td>28.5</td>\n",
       "    </tr>\n",
       "    <tr>\n",
       "      <th>1243</th>\n",
       "      <td>United States</td>\n",
       "      <td>2000</td>\n",
       "      <td>1.9</td>\n",
       "      <td>30.4</td>\n",
       "      <td>28.5</td>\n",
       "    </tr>\n",
       "    <tr>\n",
       "      <th>1244</th>\n",
       "      <td>United States</td>\n",
       "      <td>1997</td>\n",
       "      <td>1.8</td>\n",
       "      <td>30.5</td>\n",
       "      <td>28.7</td>\n",
       "    </tr>\n",
       "    <tr>\n",
       "      <th>1245</th>\n",
       "      <td>United States</td>\n",
       "      <td>1994</td>\n",
       "      <td>1.8</td>\n",
       "      <td>29.7</td>\n",
       "      <td>27.9</td>\n",
       "    </tr>\n",
       "    <tr>\n",
       "      <th>1246</th>\n",
       "      <td>United States</td>\n",
       "      <td>1991</td>\n",
       "      <td>1.9</td>\n",
       "      <td>27.6</td>\n",
       "      <td>25.7</td>\n",
       "    </tr>\n",
       "  </tbody>\n",
       "</table>\n",
       "</div>"
      ],
      "text/plain": [
       "            country  year  lowest_10  highest_10  difference\n",
       "1238  United States  2016        1.7        30.6        28.9\n",
       "1239  United States  2013        1.7        30.1        28.4\n",
       "1240  United States  2010        1.7        29.4        27.7\n",
       "1241  United States  2007        1.7        30.5        28.8\n",
       "1242  United States  2004        1.7        30.2        28.5\n",
       "1243  United States  2000        1.9        30.4        28.5\n",
       "1244  United States  1997        1.8        30.5        28.7\n",
       "1245  United States  1994        1.8        29.7        27.9\n",
       "1246  United States  1991        1.9        27.6        25.7"
      ]
     },
     "execution_count": 119,
     "metadata": {},
     "output_type": "execute_result"
    }
   ],
   "source": [
    "df_income_full.query('country == \"United States\"')"
   ]
  },
  {
   "cell_type": "markdown",
   "metadata": {},
   "source": [
    "Perhaps less surprisingly, the United States and Canada have data for most of the same years since 2000. Australia has very different years. All have below the threshold of 7 that was used. Let's update the threshold to 3."
   ]
  },
  {
   "cell_type": "markdown",
   "metadata": {},
   "source": [
    "It would be good to compare the countries with the highest difference to the countries with the lowest difference."
   ]
  },
  {
   "cell_type": "code",
   "execution_count": 99,
   "metadata": {},
   "outputs": [
    {
     "data": {
      "text/html": [
       "<div>\n",
       "<style scoped>\n",
       "    .dataframe tbody tr th:only-of-type {\n",
       "        vertical-align: middle;\n",
       "    }\n",
       "\n",
       "    .dataframe tbody tr th {\n",
       "        vertical-align: top;\n",
       "    }\n",
       "\n",
       "    .dataframe thead th {\n",
       "        text-align: right;\n",
       "    }\n",
       "</style>\n",
       "<table border=\"1\" class=\"dataframe\">\n",
       "  <thead>\n",
       "    <tr style=\"text-align: right;\">\n",
       "      <th></th>\n",
       "      <th>country</th>\n",
       "      <th>difference</th>\n",
       "    </tr>\n",
       "  </thead>\n",
       "  <tbody>\n",
       "    <tr>\n",
       "      <th>125</th>\n",
       "      <td>Slovenia</td>\n",
       "      <td>17.069231</td>\n",
       "    </tr>\n",
       "    <tr>\n",
       "      <th>124</th>\n",
       "      <td>Slovak Republic</td>\n",
       "      <td>18.284615</td>\n",
       "    </tr>\n",
       "    <tr>\n",
       "      <th>133</th>\n",
       "      <td>Sweden</td>\n",
       "      <td>18.338462</td>\n",
       "    </tr>\n",
       "    <tr>\n",
       "      <th>36</th>\n",
       "      <td>Denmark</td>\n",
       "      <td>18.423077</td>\n",
       "    </tr>\n",
       "    <tr>\n",
       "      <th>35</th>\n",
       "      <td>Czech Republic</td>\n",
       "      <td>18.671429</td>\n",
       "    </tr>\n",
       "    <tr>\n",
       "      <th>106</th>\n",
       "      <td>Norway</td>\n",
       "      <td>18.707692</td>\n",
       "    </tr>\n",
       "    <tr>\n",
       "      <th>46</th>\n",
       "      <td>Finland</td>\n",
       "      <td>18.853846</td>\n",
       "    </tr>\n",
       "    <tr>\n",
       "      <th>145</th>\n",
       "      <td>Ukraine</td>\n",
       "      <td>18.936842</td>\n",
       "    </tr>\n",
       "    <tr>\n",
       "      <th>9</th>\n",
       "      <td>Belarus</td>\n",
       "      <td>18.985000</td>\n",
       "    </tr>\n",
       "    <tr>\n",
       "      <th>10</th>\n",
       "      <td>Belgium</td>\n",
       "      <td>19.400000</td>\n",
       "    </tr>\n",
       "    <tr>\n",
       "      <th>88</th>\n",
       "      <td>Malta</td>\n",
       "      <td>19.600000</td>\n",
       "    </tr>\n",
       "    <tr>\n",
       "      <th>74</th>\n",
       "      <td>Kosovo</td>\n",
       "      <td>19.675000</td>\n",
       "    </tr>\n",
       "    <tr>\n",
       "      <th>101</th>\n",
       "      <td>Netherlands</td>\n",
       "      <td>19.683333</td>\n",
       "    </tr>\n",
       "    <tr>\n",
       "      <th>60</th>\n",
       "      <td>Iceland</td>\n",
       "      <td>19.791667</td>\n",
       "    </tr>\n",
       "    <tr>\n",
       "      <th>64</th>\n",
       "      <td>Iraq</td>\n",
       "      <td>19.850000</td>\n",
       "    </tr>\n",
       "    <tr>\n",
       "      <th>0</th>\n",
       "      <td>Albania</td>\n",
       "      <td>20.000000</td>\n",
       "    </tr>\n",
       "    <tr>\n",
       "      <th>59</th>\n",
       "      <td>Hungary</td>\n",
       "      <td>20.392308</td>\n",
       "    </tr>\n",
       "    <tr>\n",
       "      <th>6</th>\n",
       "      <td>Austria</td>\n",
       "      <td>20.638462</td>\n",
       "    </tr>\n",
       "    <tr>\n",
       "      <th>51</th>\n",
       "      <td>Germany</td>\n",
       "      <td>20.683333</td>\n",
       "    </tr>\n",
       "    <tr>\n",
       "      <th>70</th>\n",
       "      <td>Kazakhstan</td>\n",
       "      <td>20.727778</td>\n",
       "    </tr>\n",
       "    <tr>\n",
       "      <th>119</th>\n",
       "      <td>Sao Tome and Principe</td>\n",
       "      <td>20.950000</td>\n",
       "    </tr>\n",
       "    <tr>\n",
       "      <th>95</th>\n",
       "      <td>Montenegro</td>\n",
       "      <td>21.020000</td>\n",
       "    </tr>\n",
       "    <tr>\n",
       "      <th>121</th>\n",
       "      <td>Serbia</td>\n",
       "      <td>21.090909</td>\n",
       "    </tr>\n",
       "    <tr>\n",
       "      <th>7</th>\n",
       "      <td>Azerbaijan</td>\n",
       "      <td>21.166667</td>\n",
       "    </tr>\n",
       "    <tr>\n",
       "      <th>33</th>\n",
       "      <td>Croatia</td>\n",
       "      <td>21.228571</td>\n",
       "    </tr>\n",
       "    <tr>\n",
       "      <th>82</th>\n",
       "      <td>Luxembourg</td>\n",
       "      <td>21.330769</td>\n",
       "    </tr>\n",
       "    <tr>\n",
       "      <th>138</th>\n",
       "      <td>Timor-Leste</td>\n",
       "      <td>21.333333</td>\n",
       "    </tr>\n",
       "    <tr>\n",
       "      <th>1</th>\n",
       "      <td>Algeria</td>\n",
       "      <td>21.450000</td>\n",
       "    </tr>\n",
       "    <tr>\n",
       "      <th>73</th>\n",
       "      <td>Korea, Rep.</td>\n",
       "      <td>21.500000</td>\n",
       "    </tr>\n",
       "    <tr>\n",
       "      <th>75</th>\n",
       "      <td>Kyrgyz Republic</td>\n",
       "      <td>21.573684</td>\n",
       "    </tr>\n",
       "    <tr>\n",
       "      <th>...</th>\n",
       "      <td>...</td>\n",
       "      <td>...</td>\n",
       "    </tr>\n",
       "    <tr>\n",
       "      <th>150</th>\n",
       "      <td>Venezuela, RB</td>\n",
       "      <td>35.030000</td>\n",
       "    </tr>\n",
       "    <tr>\n",
       "      <th>31</th>\n",
       "      <td>Costa Rica</td>\n",
       "      <td>35.071429</td>\n",
       "    </tr>\n",
       "    <tr>\n",
       "      <th>71</th>\n",
       "      <td>Kenya</td>\n",
       "      <td>35.280000</td>\n",
       "    </tr>\n",
       "    <tr>\n",
       "      <th>30</th>\n",
       "      <td>Congo, Rep.</td>\n",
       "      <td>35.600000</td>\n",
       "    </tr>\n",
       "    <tr>\n",
       "      <th>111</th>\n",
       "      <td>Peru</td>\n",
       "      <td>35.695238</td>\n",
       "    </tr>\n",
       "    <tr>\n",
       "      <th>91</th>\n",
       "      <td>Mexico</td>\n",
       "      <td>35.971429</td>\n",
       "    </tr>\n",
       "    <tr>\n",
       "      <th>38</th>\n",
       "      <td>Dominican Republic</td>\n",
       "      <td>36.615000</td>\n",
       "    </tr>\n",
       "    <tr>\n",
       "      <th>117</th>\n",
       "      <td>Rwanda</td>\n",
       "      <td>37.440000</td>\n",
       "    </tr>\n",
       "    <tr>\n",
       "      <th>39</th>\n",
       "      <td>Ecuador</td>\n",
       "      <td>37.510526</td>\n",
       "    </tr>\n",
       "    <tr>\n",
       "      <th>122</th>\n",
       "      <td>Seychelles</td>\n",
       "      <td>38.000000</td>\n",
       "    </tr>\n",
       "    <tr>\n",
       "      <th>20</th>\n",
       "      <td>Cabo Verde</td>\n",
       "      <td>38.050000</td>\n",
       "    </tr>\n",
       "    <tr>\n",
       "      <th>13</th>\n",
       "      <td>Bolivia</td>\n",
       "      <td>38.384211</td>\n",
       "    </tr>\n",
       "    <tr>\n",
       "      <th>102</th>\n",
       "      <td>Nicaragua</td>\n",
       "      <td>38.800000</td>\n",
       "    </tr>\n",
       "    <tr>\n",
       "      <th>110</th>\n",
       "      <td>Paraguay</td>\n",
       "      <td>39.119048</td>\n",
       "    </tr>\n",
       "    <tr>\n",
       "      <th>28</th>\n",
       "      <td>Comoros</td>\n",
       "      <td>39.350000</td>\n",
       "    </tr>\n",
       "    <tr>\n",
       "      <th>154</th>\n",
       "      <td>Zambia</td>\n",
       "      <td>39.422222</td>\n",
       "    </tr>\n",
       "    <tr>\n",
       "      <th>97</th>\n",
       "      <td>Mozambique</td>\n",
       "      <td>39.600000</td>\n",
       "    </tr>\n",
       "    <tr>\n",
       "      <th>84</th>\n",
       "      <td>Malawi</td>\n",
       "      <td>40.000000</td>\n",
       "    </tr>\n",
       "    <tr>\n",
       "      <th>108</th>\n",
       "      <td>Panama</td>\n",
       "      <td>40.200000</td>\n",
       "    </tr>\n",
       "    <tr>\n",
       "      <th>25</th>\n",
       "      <td>Chile</td>\n",
       "      <td>40.215385</td>\n",
       "    </tr>\n",
       "    <tr>\n",
       "      <th>54</th>\n",
       "      <td>Guatemala</td>\n",
       "      <td>40.366667</td>\n",
       "    </tr>\n",
       "    <tr>\n",
       "      <th>23</th>\n",
       "      <td>Central African Republic</td>\n",
       "      <td>41.000000</td>\n",
       "    </tr>\n",
       "    <tr>\n",
       "      <th>58</th>\n",
       "      <td>Honduras</td>\n",
       "      <td>41.166667</td>\n",
       "    </tr>\n",
       "    <tr>\n",
       "      <th>79</th>\n",
       "      <td>Lesotho</td>\n",
       "      <td>41.733333</td>\n",
       "    </tr>\n",
       "    <tr>\n",
       "      <th>27</th>\n",
       "      <td>Colombia</td>\n",
       "      <td>41.963158</td>\n",
       "    </tr>\n",
       "    <tr>\n",
       "      <th>43</th>\n",
       "      <td>Eswatini</td>\n",
       "      <td>43.133333</td>\n",
       "    </tr>\n",
       "    <tr>\n",
       "      <th>16</th>\n",
       "      <td>Brazil</td>\n",
       "      <td>43.337500</td>\n",
       "    </tr>\n",
       "    <tr>\n",
       "      <th>15</th>\n",
       "      <td>Botswana</td>\n",
       "      <td>47.700000</td>\n",
       "    </tr>\n",
       "    <tr>\n",
       "      <th>127</th>\n",
       "      <td>South Africa</td>\n",
       "      <td>48.428571</td>\n",
       "    </tr>\n",
       "    <tr>\n",
       "      <th>99</th>\n",
       "      <td>Namibia</td>\n",
       "      <td>50.166667</td>\n",
       "    </tr>\n",
       "  </tbody>\n",
       "</table>\n",
       "<p>156 rows × 2 columns</p>\n",
       "</div>"
      ],
      "text/plain": [
       "                      country  difference\n",
       "125                  Slovenia   17.069231\n",
       "124           Slovak Republic   18.284615\n",
       "133                    Sweden   18.338462\n",
       "36                    Denmark   18.423077\n",
       "35             Czech Republic   18.671429\n",
       "106                    Norway   18.707692\n",
       "46                    Finland   18.853846\n",
       "145                   Ukraine   18.936842\n",
       "9                     Belarus   18.985000\n",
       "10                    Belgium   19.400000\n",
       "88                      Malta   19.600000\n",
       "74                     Kosovo   19.675000\n",
       "101               Netherlands   19.683333\n",
       "60                    Iceland   19.791667\n",
       "64                       Iraq   19.850000\n",
       "0                     Albania   20.000000\n",
       "59                    Hungary   20.392308\n",
       "6                     Austria   20.638462\n",
       "51                    Germany   20.683333\n",
       "70                 Kazakhstan   20.727778\n",
       "119     Sao Tome and Principe   20.950000\n",
       "95                 Montenegro   21.020000\n",
       "121                    Serbia   21.090909\n",
       "7                  Azerbaijan   21.166667\n",
       "33                    Croatia   21.228571\n",
       "82                 Luxembourg   21.330769\n",
       "138               Timor-Leste   21.333333\n",
       "1                     Algeria   21.450000\n",
       "73                Korea, Rep.   21.500000\n",
       "75            Kyrgyz Republic   21.573684\n",
       "..                        ...         ...\n",
       "150             Venezuela, RB   35.030000\n",
       "31                 Costa Rica   35.071429\n",
       "71                      Kenya   35.280000\n",
       "30                Congo, Rep.   35.600000\n",
       "111                      Peru   35.695238\n",
       "91                     Mexico   35.971429\n",
       "38         Dominican Republic   36.615000\n",
       "117                    Rwanda   37.440000\n",
       "39                    Ecuador   37.510526\n",
       "122                Seychelles   38.000000\n",
       "20                 Cabo Verde   38.050000\n",
       "13                    Bolivia   38.384211\n",
       "102                 Nicaragua   38.800000\n",
       "110                  Paraguay   39.119048\n",
       "28                    Comoros   39.350000\n",
       "154                    Zambia   39.422222\n",
       "97                 Mozambique   39.600000\n",
       "84                     Malawi   40.000000\n",
       "108                    Panama   40.200000\n",
       "25                      Chile   40.215385\n",
       "54                  Guatemala   40.366667\n",
       "23   Central African Republic   41.000000\n",
       "58                   Honduras   41.166667\n",
       "79                    Lesotho   41.733333\n",
       "27                   Colombia   41.963158\n",
       "43                   Eswatini   43.133333\n",
       "16                     Brazil   43.337500\n",
       "15                   Botswana   47.700000\n",
       "127              South Africa   48.428571\n",
       "99                    Namibia   50.166667\n",
       "\n",
       "[156 rows x 2 columns]"
      ]
     },
     "execution_count": 99,
     "metadata": {},
     "output_type": "execute_result"
    }
   ],
   "source": [
    "in_selected_countries = df_income_full.country.isin(select_countries)\n",
    "df_country_diffs = df_income_full[in_selected_countries].copy()\n",
    "df_country_diffs['difference'] = df_country_diffs['highest_10'] - df_country_diffs['lowest_10']\n",
    "df_country_diffs = df_country_diffs.groupby('country')['difference']\\\n",
    ".mean().reset_index().sort_values(by='difference')\n",
    "df_country_diffs"
   ]
  },
  {
   "cell_type": "markdown",
   "metadata": {},
   "source": [
    "Let's look at three different groupings - the highest and largest 10 (which can change over time), and the countries in the [G10](https://en.wikipedia.org/wiki/Group_of_Ten_(economics)."
   ]
  },
  {
   "cell_type": "code",
   "execution_count": 100,
   "metadata": {},
   "outputs": [],
   "source": [
    "smallest_10 = df_country_diffs.head(10)['country']\n",
    "largest_10 = df_country_diffs.tail(10)['country']\n",
    "g10 = ['Belgium', 'Canada', 'France', 'Germany', 'Italy',\n",
    "       'Japan', 'Netherlands', 'Sweden', 'Switzerland', 'United Kingdom', 'United States']"
   ]
  },
  {
   "cell_type": "code",
   "execution_count": 102,
   "metadata": {},
   "outputs": [
    {
     "data": {
      "image/png": "[encoded data removed]",
      "text/plain": [
       "<Figure size 576x432 with 1 Axes>"
      ]
     },
     "metadata": {},
     "output_type": "display_data"
    }
   ],
   "source": [
    "df_income_full['difference'] = df_income_full['highest_10'] - df_income_full['lowest_10']\n",
    "in_smallest_10 = df_income_full.country.isin(smallest_10)\n",
    "\n",
    "plt.figure(figsize=(8, 6))\n",
    "sns.pointplot(x='year', y='difference', hue='country', data=df_income_full[in_smallest_10]);"
   ]
  },
  {
   "cell_type": "markdown",
   "metadata": {},
   "source": [
    "When can see that for countries with the smallest difference that they have remained relatively stable. \n",
    "\n",
    "Let's move to plotting with plotly. To do so I need to change the country code to one that plotly recognizes."
   ]
  },
  {
   "cell_type": "code",
   "execution_count": 47,
   "metadata": {},
   "outputs": [],
   "source": [
    "def convert_country_code(data_df):\n",
    "    \"\"\"Adds 3 letter country code to dataframe with 2 letter country code.\"\"\"\n",
    "    country_df = pd.read_csv('data/country_map.txt', sep='\\t')\n",
    "    df = data_df.merge(country_df, left_on='code', right_on='2let')\n",
    "\n",
    "    return df"
   ]
  },
  {
   "cell_type": "code",
   "execution_count": 103,
   "metadata": {},
   "outputs": [],
   "source": [
    "df_final = df_income_full[in_selected_countries].copy()\n",
    "df_final = convert_country_code(df_final)\n",
    "df_2013 = df_final.query('year == \"2013\"').copy()\n",
    "df_2013.dropna(inplace=True)"
   ]
  },
  {
   "cell_type": "code",
   "execution_count": 104,
   "metadata": {},
   "outputs": [],
   "source": [
    "graph_one = [dict(\n",
    "        type = 'choropleth',\n",
    "        locations = df_2013['3let'],\n",
    "        z = df_2013['difference'],\n",
    "        text = df_2013['country'],\n",
    "        colorscale = 'Viridis',\n",
    "        autocolorscale = False,\n",
    "        reversescale = True,\n",
    "        marker = dict(\n",
    "            line = dict (\n",
    "                color = 'rgb(180,180,180)',\n",
    "                width = 0.5\n",
    "            ) ),\n",
    "        colorbar = dict(\n",
    "            title = 'Difference in <br>Share of Income<br>(%)'),\n",
    "    )]\n",
    "\n",
    "layout_one = dict(\n",
    "        margin = dict(\n",
    "            l = 30,\n",
    "            r = 10, \n",
    "            b = 0,\n",
    "            t = 10,\n",
    "            pad = 4\n",
    "        ),\n",
    "        geo = dict(\n",
    "            # https://community.plot.ly/t/how-to-change-colors-for-na-values-to-gray-in-a-choropleth-map/15746/4\n",
    "            landcolor = 'lightgray',\n",
    "            showland = True,\n",
    "            showcountries = True,\n",
    "            countrycolor = 'gray',\n",
    "            countrywidth = 0.5,\n",
    "            showframe = False,\n",
    "            showcoastlines = False,\n",
    "            projection = dict(\n",
    "                type = 'mercator'\n",
    "            )\n",
    "        )\n",
    "    )"
   ]
  },
  {
   "cell_type": "code",
   "execution_count": 105,
   "metadata": {
    "scrolled": true
   },
   "outputs": [
    {
     "data": {
      "text/html": [
       "        <script type=\"text/javascript\">\n",
       "        window.PlotlyConfig = {MathJaxConfig: 'local'};\n",
       "        if (window.MathJax) {MathJax.Hub.Config({SVG: {font: \"STIX-Web\"}});}\n",
       "        if (typeof require !== 'undefined') {\n",
       "        require.undef(\"plotly\");\n",
       "        requirejs.config({\n",
       "            paths: {\n",
       "                'plotly': ['https://cdn.plot.ly/plotly-latest.min']\n",
       "            }\n",
       "        });\n",
       "        require(['plotly'], function(Plotly) {\n",
       "            window._Plotly = Plotly;\n",
       "        });\n",
       "        }\n",
       "        </script>\n",
       "        "
      ]
     },
     "metadata": {},
     "output_type": "display_data"
    },
    {
     "data": {
      "text/plain": [
       "'temp-plot.html'"
      ]
     },
     "execution_count": 105,
     "metadata": {},
     "output_type": "execute_result"
    }
   ],
   "source": [
    "plotly.offline.init_notebook_mode(connected=True)\n",
    "fig = go.Figure(data=graph_one, layout=layout_one)\n",
    "plotly.offline.plot(fig)"
   ]
  },
  {
   "cell_type": "code",
   "execution_count": 106,
   "metadata": {},
   "outputs": [],
   "source": [
    "selected_years = [str(x) for x in range(2000, 2019)]\n",
    "df_years = df_final[df_final.year.isin(selected_years)]\n",
    "\n",
    "average_diff = df_years.groupby('country')['difference'].mean().reset_index()\\\n",
    "        .sort_values(by='difference')\n",
    "worst_6_countries = average_diff.country[-6:].tolist()\n",
    "worst_6_countries.sort()\n",
    "\n",
    "graph_two = []\n",
    "\n",
    "for country in worst_6_countries:\n",
    "        x_val = df_years[df_years['country'] == country].year.tolist()\n",
    "        y_val = df_years[df_years['country'] == country].difference.tolist()\n",
    "        graph_two.append(\n",
    "            go.Scatter(x=x_val, \n",
    "                       y=y_val, \n",
    "                       mode='lines+markers', \n",
    "                       marker = dict(\n",
    "                           size=2.25,\n",
    "                       ),\n",
    "                       name=country)\n",
    "        )\n",
    "    \n",
    "layout_two = dict(\n",
    "        title = 'Highest Income Inequality',\n",
    "        xaxis = dict(\n",
    "            title = 'Year',\n",
    "            dtick = 5\n",
    "        ),\n",
    "        yaxis = dict(\n",
    "            title = 'Difference in Income Share (%)'\n",
    "        ),\n",
    "        hovermode = 'closest',\n",
    "    )"
   ]
  },
  {
   "cell_type": "code",
   "execution_count": 107,
   "metadata": {},
   "outputs": [
    {
     "data": {
      "text/html": [
       "        <script type=\"text/javascript\">\n",
       "        window.PlotlyConfig = {MathJaxConfig: 'local'};\n",
       "        if (window.MathJax) {MathJax.Hub.Config({SVG: {font: \"STIX-Web\"}});}\n",
       "        if (typeof require !== 'undefined') {\n",
       "        require.undef(\"plotly\");\n",
       "        requirejs.config({\n",
       "            paths: {\n",
       "                'plotly': ['https://cdn.plot.ly/plotly-latest.min']\n",
       "            }\n",
       "        });\n",
       "        require(['plotly'], function(Plotly) {\n",
       "            window._Plotly = Plotly;\n",
       "        });\n",
       "        }\n",
       "        </script>\n",
       "        "
      ]
     },
     "metadata": {},
     "output_type": "display_data"
    },
    {
     "data": {
      "text/plain": [
       "'temp-plot.html'"
      ]
     },
     "execution_count": 107,
     "metadata": {},
     "output_type": "execute_result"
    }
   ],
   "source": [
    "plotly.offline.init_notebook_mode(connected=True)\n",
    "fig = go.Figure(data=graph_two, layout=layout_two)\n",
    "plotly.offline.plot(fig)"
   ]
  },
  {
   "cell_type": "code",
   "execution_count": null,
   "metadata": {},
   "outputs": [],
   "source": []
  }
 ],
 "metadata": {
  "kernelspec": {
   "display_name": "Python [conda env:dand]",
   "language": "python",
   "name": "conda-env-dand-py"
  },
  "language_info": {
   "codemirror_mode": {
    "name": "ipython",
    "version": 3
   },
   "file_extension": ".py",
   "mimetype": "text/x-python",
   "name": "python",
   "nbconvert_exporter": "python",
   "pygments_lexer": "ipython3",
   "version": "3.6.5"
  }
 },
 "nbformat": 4,
 "nbformat_minor": 2
}
